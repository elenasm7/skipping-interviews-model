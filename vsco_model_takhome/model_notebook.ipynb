{
 "cells": [
  {
   "cell_type": "markdown",
   "id": "2629a7ee",
   "metadata": {},
   "source": [
    "# Predicting Interview No-shows\n",
    "\n",
    "**Problem statement:**\n",
    "\n",
    "Your company, Acme Co., sources candidates for companies hiring new employees. Recently, a number of our clients have complained that candidates have not been showing up to interviews. Your boss has provided you with the attached data set in hopes that you can find some way of identifying candidates at risk of not attending scheduled interviews\n",
    "\n",
    "Logistic regression or a tree-based method. It seems like there are a good amount of categorical features, so may be learning towards trees.\n",
    "\n",
    "**Import Libraries:**"
   ]
  },
  {
   "cell_type": "code",
   "execution_count": 370,
   "id": "f7beeccc",
   "metadata": {},
   "outputs": [],
   "source": [
    "import pandas as pd\n",
    "from sklearn.model_selection import train_test_split\n",
    "import numpy as np\n",
    "import matplotlib.pyplot as plt\n",
    "import seaborn as sns\n",
    "from sklearn.metrics import classification_report\n",
    "import re\n",
    "import pickle\n",
    "import googlemaps \n",
    "from datetime import datetime\n",
    "import itertools\n",
    "from sklearn.linear_model import Lasso, LogisticRegression\n",
    "from sklearn.feature_selection import SelectFromModel\n",
    "from sklearn.preprocessing import StandardScaler\n",
    "from sklearn.feature_selection import RFECV\n",
    "import warnings\n",
    "warnings.filterwarnings('ignore')"
   ]
  },
  {
   "cell_type": "markdown",
   "id": "684365f7",
   "metadata": {},
   "source": [
    "**Functions:**"
   ]
  },
  {
   "cell_type": "code",
   "execution_count": 400,
   "id": "5f5fac98",
   "metadata": {},
   "outputs": [],
   "source": [
    "def clean_special_characters(string):\n",
    "    l = re.sub('[^A-Za-z0-9]+', ' ', string)\n",
    "    return l.strip()\n",
    "\n",
    "def get_city_diff(city_1,city_2):\n",
    "    distance = gmaps.distance_matrix(city_1,city_2)['rows'][0]['elements'][0]\n",
    "    return distance['distance']['value']\n",
    "\n",
    "def replace_value(val,replacable_words_li,replace_word):\n",
    "    if val in replacable_words_li:\n",
    "        return replace_word\n",
    "    else: \n",
    "        return val\n",
    "    \n",
    "def get_date_string(date):\n",
    "    val = re.search(\"^(\\d)+[\\.\\-\\/](\\d)+[\\.\\-\\/](\\d)*\",date).group()\n",
    "    val = val.replace(\"/\",'.').replace(\"-\",\".\")\n",
    "    d,m = val.split('.')[0].zfill(2),val.split('.')[1].zfill(2)\n",
    "    if len(val.split('.')[2]) == 4:\n",
    "        yr = val.split('.')[2]\n",
    "    else:\n",
    "        yr = \"20\".join(val.split('.')[2])\n",
    "    return \".\".join([d,m,yr])\n",
    "    \n",
    "def clean_date_formating(row):\n",
    "    try:\n",
    "        date = get_date_string(row)\n",
    "        return datetime.strptime(date, '%d.%m.%Y')\n",
    "    except:\n",
    "        date = '.'.join([row[:2],'04.2016'])\n",
    "        return datetime.strptime(date, '%d.%m.%Y')\n",
    "        \n",
    "    \n",
    "def format_date(row):\n",
    "    r = clean_date_formating(row)\n",
    "    \n",
    "    if int(r.split('.')[0]) <= 12 and int(r.split('.')[1]) <= 12:\n",
    "        return \"both_under\"\n",
    "    elif int(r.split('.')[0]) > 12:\n",
    "        return \"d-m-y\"\n",
    "    elif int(r.split('.')[1]) > 12: \n",
    "        return \"m-d-y\"\n",
    "    else:\n",
    "        return \"other\"\n",
    "    \n",
    "def clean_locations(locale):\n",
    "    return locale.replace(\"-\",'').split('/')[0].strip().replace(\"-\",'')\n",
    "\n",
    "def clean_col_vals(row,value_replacements):\n",
    "    if row in value_replacements.keys():\n",
    "        return value_replacements[row].replace(' ','_')\n",
    "    else:\n",
    "        return row.replace(' ','_')\n",
    "    \n",
    "def clean_position_names(row):\n",
    "    return row.replace('-','').replace(' ','_')\n",
    "\n",
    "def replace_time_with_position(skills,position):\n",
    "    try:\n",
    "        re.search(\"(\\d)+[\\.](\\d{2}\\s)[\\w]{2}\",skills).group()\n",
    "        return position\n",
    "    except:\n",
    "        return skills\n",
    "    \n",
    "def lead_or_manager_skills_fix(skills,position,position_or_lead=\"position\"):\n",
    "    ptrn = \"[\\_]?(senior|manager|lead|sr|tech_lead|technical_lead)[\\_]?\"\n",
    "    try:\n",
    "        s = re.search(ptrn,skills).group()\n",
    "        if (s == skills) and position_or_lead==\"position\":\n",
    "            return position\n",
    "        elif position_or_lead!=\"position\":\n",
    "            return 1\n",
    "        else:\n",
    "            return skills.replace(s,'')\n",
    "    \n",
    "    except:\n",
    "        if position_or_lead==\"position\":\n",
    "            return skills\n",
    "        else: \n",
    "            return 0\n",
    "\n",
    "def clean_col_vals_new(row,value_replacements):\n",
    "    if row == \"basesas program/ reporting\":\n",
    "        return \"basesas_program_reporting\"\n",
    "    for val in value_replacements.keys():\n",
    "        if row in value_replacements[val]:\n",
    "            val.split(',')\n",
    "            v=val.strip().replace('-',' ')\n",
    "            s = re.sub(' +', ' ', v)\n",
    "            return s.replace(' ','_')\n",
    "        else:\n",
    "            pass\n",
    "    \n",
    "    if row.find(',') != -1:\n",
    "        row = '/'.join([x.strip() for x in row.split(',')])\n",
    "    \n",
    "    v = row.replace('-',' ').replace(\"–\",\" \").strip()\n",
    "    s = re.sub(' +', ' ', v) \n",
    "    return s.replace(' ','_')\n",
    "\n",
    "def value_contained_skill(skill,val):\n",
    "    for v in val:\n",
    "        if skill.find(v) != -1:\n",
    "            return 1\n",
    "        else: \n",
    "            return 0\n",
    "    \n",
    "def clean_skills(skills):\n",
    "    for s in ['/',',','–','-','(',')']:\n",
    "        skills = '_'.join([i.strip() for i in skills.split(s) if i != ''])\n",
    "\n",
    "    return skills.lower().replace('&',' and ').replace(' ','_').replace(\"__\",\"_\")\n",
    "\n",
    "def replace_skills(skill,replacements):\n",
    "    for key in skill_replacements.keys():\n",
    "        if skill in skill_replacements[key]:\n",
    "            return key\n",
    "        else: \n",
    "            pass\n",
    "        \n",
    "    return skill\n",
    "\n",
    "def clean(val):\n",
    "    return val.replace(\", India\",\"\")\n",
    "\n",
    "def get_distance(city_1,city_2,updated_distances):\n",
    "    try:\n",
    "        try:\n",
    "            if city_1 == city_2:\n",
    "                return 0\n",
    "            elif city_1[1] > city_2[1]:\n",
    "                return updated_distances[city_1][city_2]\n",
    "            elif city_1[1] < city_2[1]:\n",
    "                return updated_distances[city_2][city_1]\n",
    "            else: \n",
    "                return updated_distances[city_1][city_2]\n",
    "        except:\n",
    "            return updated_distances[city_2][city_1]\n",
    "    except:\n",
    "        return get_city_diff(city_1,city_2)\n",
    "\n",
    "def zeros_and_ones(res):\n",
    "    if res == \"no\":\n",
    "        return 0\n",
    "    else: \n",
    "        return 1\n",
    "    \n",
    "def confusion_data(row):\n",
    "    r_comf = 'Have you obtained the necessary permission to start at the required time_yes'\n",
    "    if row[r_comf] == 0 and row[\"y\"] == 0:\n",
    "        return \"true_neg\"\n",
    "    elif row[r_comf] == 1 and row[\"y\"] == 0:\n",
    "        return \"false_pos\"\n",
    "    elif row[r_comf] == 1 and row[\"y\"] == 1:\n",
    "        return \"true_pos\"\n",
    "    else:\n",
    "        return \"true_neg\"\n",
    "    \n",
    "def get_prob(outcome):\n",
    "    if outcome == 1:\n",
    "        return 0.69\n",
    "    else:\n",
    "        return 0.31\n"
   ]
  },
  {
   "cell_type": "markdown",
   "id": "3ac915bf",
   "metadata": {},
   "source": [
    "Read in the data:"
   ]
  },
  {
   "cell_type": "code",
   "execution_count": 372,
   "id": "807cdb67",
   "metadata": {},
   "outputs": [],
   "source": [
    "data = pd.read_csv(\"Interview_Input.csv\")"
   ]
  },
  {
   "cell_type": "code",
   "execution_count": 496,
   "id": "36d039aa",
   "metadata": {},
   "outputs": [],
   "source": [
    "grab_these = pd.read_csv(\"Interview_Input.csv\")\n",
    "\n",
    "grab_these.drop(['Unnamed: 22','Unnamed: 23','Unnamed: 24','Unnamed: 25','Unnamed: 26'],axis=1,inplace=True)\n",
    "grab_these.dropna(subset=[\"Date of Interview\"],inplace=True)\n",
    "here = grab_these[[\"Name(Cand ID)\",\"Observed Attendance\"]]"
   ]
  },
  {
   "cell_type": "markdown",
   "id": "ddf2560f",
   "metadata": {},
   "source": [
    "### Data Cleaning:\n",
    "\n",
    "We now need to look for missing values, data types, correlations, etc. First let's deal with missing values.\n",
    "\n",
    "Drop read in empty columns:"
   ]
  },
  {
   "cell_type": "code",
   "execution_count": 373,
   "id": "dcd7c0fb",
   "metadata": {},
   "outputs": [],
   "source": [
    "data.drop(['Unnamed: 22','Unnamed: 23','Unnamed: 24','Unnamed: 25','Unnamed: 26'],axis=1,inplace=True)"
   ]
  },
  {
   "cell_type": "code",
   "execution_count": 374,
   "id": "3e6cb4e3",
   "metadata": {},
   "outputs": [],
   "source": [
    "# data.isnull().sum()"
   ]
  },
  {
   "cell_type": "markdown",
   "id": "79dd6c69",
   "metadata": {},
   "source": [
    "for the missing date item, I may just drop. Once checking it (show below), we can see that the entire row is missing, so this one will be dropped:"
   ]
  },
  {
   "cell_type": "code",
   "execution_count": 375,
   "id": "853689ff",
   "metadata": {},
   "outputs": [
    {
     "data": {
      "text/html": [
       "<div>\n",
       "<style scoped>\n",
       "    .dataframe tbody tr th:only-of-type {\n",
       "        vertical-align: middle;\n",
       "    }\n",
       "\n",
       "    .dataframe tbody tr th {\n",
       "        vertical-align: top;\n",
       "    }\n",
       "\n",
       "    .dataframe thead th {\n",
       "        text-align: right;\n",
       "    }\n",
       "</style>\n",
       "<table border=\"1\" class=\"dataframe\">\n",
       "  <thead>\n",
       "    <tr style=\"text-align: right;\">\n",
       "      <th></th>\n",
       "      <th>Date of Interview</th>\n",
       "      <th>Client name</th>\n",
       "      <th>Industry</th>\n",
       "      <th>Location</th>\n",
       "      <th>Position to be closed</th>\n",
       "      <th>Nature of Skillset</th>\n",
       "      <th>Interview Type</th>\n",
       "      <th>Name(Cand ID)</th>\n",
       "      <th>Gender</th>\n",
       "      <th>Candidate Current Location</th>\n",
       "      <th>...</th>\n",
       "      <th>Candidate Native location</th>\n",
       "      <th>Have you obtained the necessary permission to start at the required time</th>\n",
       "      <th>Hope there will be no unscheduled meetings</th>\n",
       "      <th>Can I Call you three hours before the interview and follow up on your attendance for the interview</th>\n",
       "      <th>Can I have an alternative number/ desk number. I assure you that I will not trouble you too much</th>\n",
       "      <th>Have you taken a printout of your updated resume. Have you read the JD and understood the same</th>\n",
       "      <th>Are you clear with the venue details and the landmark.</th>\n",
       "      <th>Has the call letter been shared</th>\n",
       "      <th>Observed Attendance</th>\n",
       "      <th>Marital Status</th>\n",
       "    </tr>\n",
       "  </thead>\n",
       "  <tbody>\n",
       "    <tr>\n",
       "      <th>1233</th>\n",
       "      <td>NaN</td>\n",
       "      <td>﻿﻿</td>\n",
       "      <td>NaN</td>\n",
       "      <td>NaN</td>\n",
       "      <td>NaN</td>\n",
       "      <td>NaN</td>\n",
       "      <td>NaN</td>\n",
       "      <td>NaN</td>\n",
       "      <td>NaN</td>\n",
       "      <td>NaN</td>\n",
       "      <td>...</td>\n",
       "      <td>NaN</td>\n",
       "      <td>NaN</td>\n",
       "      <td>NaN</td>\n",
       "      <td>NaN</td>\n",
       "      <td>NaN</td>\n",
       "      <td>NaN</td>\n",
       "      <td>NaN</td>\n",
       "      <td>NaN</td>\n",
       "      <td>NaN</td>\n",
       "      <td>NaN</td>\n",
       "    </tr>\n",
       "  </tbody>\n",
       "</table>\n",
       "<p>1 rows × 22 columns</p>\n",
       "</div>"
      ],
      "text/plain": [
       "     Date of Interview Client name Industry Location Position to be closed  \\\n",
       "1233               NaN          ﻿﻿      NaN      NaN                   NaN   \n",
       "\n",
       "     Nature of Skillset Interview Type Name(Cand ID) Gender  \\\n",
       "1233                NaN            NaN           NaN    NaN   \n",
       "\n",
       "     Candidate Current Location  ... Candidate Native location  \\\n",
       "1233                        NaN  ...                       NaN   \n",
       "\n",
       "     Have you obtained the necessary permission to start at the required time  \\\n",
       "1233                                                NaN                         \n",
       "\n",
       "     Hope there will be no unscheduled meetings  \\\n",
       "1233                                        NaN   \n",
       "\n",
       "     Can I Call you three hours before the interview and follow up on your attendance for the interview  \\\n",
       "1233                                                NaN                                                   \n",
       "\n",
       "     Can I have an alternative number/ desk number. I assure you that I will not trouble you too much  \\\n",
       "1233                                                NaN                                                 \n",
       "\n",
       "     Have you taken a printout of your updated resume. Have you read the JD and understood the same  \\\n",
       "1233                                                NaN                                               \n",
       "\n",
       "     Are you clear with the venue details and the landmark.  \\\n",
       "1233                                                NaN       \n",
       "\n",
       "     Has the call letter been shared Observed Attendance Marital Status  \n",
       "1233                             NaN                 NaN            NaN  \n",
       "\n",
       "[1 rows x 22 columns]"
      ]
     },
     "execution_count": 375,
     "metadata": {},
     "output_type": "execute_result"
    }
   ],
   "source": [
    "data[data['Date of Interview'].isnull()]"
   ]
  },
  {
   "cell_type": "code",
   "execution_count": 376,
   "id": "aca6fe23",
   "metadata": {},
   "outputs": [],
   "source": [
    "data.dropna(subset=[\"Date of Interview\"],inplace=True)"
   ]
  },
  {
   "cell_type": "markdown",
   "id": "d0613540",
   "metadata": {},
   "source": [
    "Ok, lets look at the values in these binary columns. There seems to be some issues with input values. The values need to be cleaned. So, let's look into the column values to clean them proplerly. First, let's lower all of values."
   ]
  },
  {
   "cell_type": "code",
   "execution_count": 377,
   "id": "964069b5",
   "metadata": {},
   "outputs": [],
   "source": [
    "for col in data.columns:\n",
    "    data[col] = data[col].str.lower()\n",
    "    data[col] = data[col].str.strip()"
   ]
  },
  {
   "cell_type": "markdown",
   "id": "8f973f0d",
   "metadata": {},
   "source": [
    "I'm making a dictionary with all columns values, except for dates and names: "
   ]
  },
  {
   "cell_type": "code",
   "execution_count": 378,
   "id": "bfe80be4",
   "metadata": {},
   "outputs": [],
   "source": [
    "col_vals_2 = {}\n",
    "\n",
    "for col in data.columns:\n",
    "    if col in [\"Date of Interview\",\"Name(Cand ID)\"]:\n",
    "        pass\n",
    "    else:\n",
    "        col_vals_2[col] = data[col].value_counts().keys().to_list()"
   ]
  },
  {
   "cell_type": "markdown",
   "id": "dc9065cf",
   "metadata": {},
   "source": [
    "Update values for the question based answers:"
   ]
  },
  {
   "cell_type": "code",
   "execution_count": 379,
   "id": "0c79112c",
   "metadata": {},
   "outputs": [],
   "source": [
    "cols_for_maybe = ['Has the call letter been shared','Hope there will be no unscheduled meetings']\n",
    "    \n",
    "cols_for_YN = ['Are you clear with the venue details and the landmark.',\n",
    "               'Have you taken a printout of your updated resume. Have you read the JD and understood the same',\n",
    "               'Can I have an alternative number/ desk number. I assure you that I will not trouble you too much',\n",
    "               'Can I Call you three hours before the interview and follow up on your attendance for the interview',\n",
    "               'Have you obtained the necessary permission to start at the required time']\n",
    "\n",
    "vals_for_maybe_dict = ['need to check','not yet','havent checked','yet to check','cant say']\n",
    "\n",
    "vals_for_YN = ['no- i need to check','not yet','no- will take it soon','no',\n",
    "               'no i have only thi number','no','no dont','not yet','yet to confirm']\n",
    "\n",
    "for col in cols_for_maybe:\n",
    "    data[col] = data[col].apply(lambda val: replace_value(val,vals_for_maybe_dict,\"not sure\"))\n",
    "    \n",
    "for col in cols_for_YN:\n",
    "    data[col] = data[col].apply(lambda val: replace_value(val,vals_for_YN,\"no\"))\n",
    "    \n",
    "#replace_value(val,replacable_words_li,replace_word"
   ]
  },
  {
   "cell_type": "markdown",
   "id": "db2e3019",
   "metadata": {},
   "source": [
    "There is a string value that is \"na\". In a way to understand if it is meant to be read as \"N/A\" or an accident for \"no\", I've pulled the data where this value shows up. \n",
    "\n",
    "For most of the columns, it is showing up for the 20 same rows (found using `data[data['Hope there will be no unscheduled meetings']=='na']`). I looked to see what is common about these rows to determine if there are any commonaility that would make it sensible to be N/A or if it should be no. However, I think based on the commonaility across the board, I'm leaning to it falling into the NaN category. I will most likely assign it as such, and deal with null values after one-hot encoding.\n",
    "\n",
    "I now need to address the formatting issues with the date column. Some values are separated differently. A few list date and time, while others start with months as the first value. Below we will figure out how we can manage these and fix them.\n",
    "\n",
    "was used before but isn't now:\n",
    "\n",
    "`data[\"date_formats\"] = data[\"Date of Interview\"].apply(lambda row: format_date(row))`\n",
    "`data[\"date_formats\"].value_counts()`\n",
    "\n",
    "based on this, I am assuming a format of \"dd/mm/yyyy\""
   ]
  },
  {
   "cell_type": "code",
   "execution_count": 380,
   "id": "85323d58",
   "metadata": {},
   "outputs": [],
   "source": [
    "data[\"Date of Interview\"] = data[\"Date of Interview\"].apply(lambda row: clean_date_formating(row))"
   ]
  },
  {
   "cell_type": "markdown",
   "id": "4e2123de",
   "metadata": {},
   "source": [
    "Based on the fact this model is forward looking, I'm going to **not going to use the year** in training our model. We will have a separate month and day column. But we will do this after cleaning the rest of the data.\n",
    "\n",
    "Next clean all location values: "
   ]
  },
  {
   "cell_type": "code",
   "execution_count": 381,
   "id": "c4daf6e4",
   "metadata": {},
   "outputs": [],
   "source": [
    "for col in ['Location','Candidate Current Location','Candidate Job Location',\n",
    "            'Interview Venue','Candidate Native location']:\n",
    "    data[col] = data[col].apply(lambda loc: clean_locations(loc))"
   ]
  },
  {
   "cell_type": "markdown",
   "id": "7e5f57f6",
   "metadata": {},
   "source": [
    "fix values that need to be replaced:"
   ]
  },
  {
   "cell_type": "code",
   "execution_count": 382,
   "id": "11896b04",
   "metadata": {},
   "outputs": [],
   "source": [
    "industry_replacements = {'it products and services':'it','it services':'it'}\n",
    "interview_type_replacements = {'scheduled walk in':'scheduled_walkin','scheduled walkin':'scheduled_walkin',\n",
    "                              'sceduled walkin':'scheduled_walkin'}\n",
    "client_replacements = {\"aon hewitt gurgaon\":\"aon\",\"aon hewitt\":\"aon\",\"hewitt\":\"aon\",\n",
    "                       \"standard chartered bank chennai\":\"standard chartered bank\"}\n",
    "\n",
    "data['Industry'] = data['Industry'].apply(lambda row: clean_col_vals(row,industry_replacements))\n",
    "data['Interview Type'] = data['Interview Type'].apply(lambda row: clean_col_vals(row,interview_type_replacements))\n",
    "data[\"Position to be closed\"] = data[\"Position to be closed\"].apply(lambda row: clean_position_names(row))\n",
    "data['Client name'] = data['Client name'].apply(lambda row: clean_col_vals(row,client_replacements))"
   ]
  },
  {
   "cell_type": "markdown",
   "id": "2a277364",
   "metadata": {},
   "source": [
    "Look into skillsets to determine how we can make more out of this data. There's a lot of data in each cell, we can break them down more to better use the data.\n",
    "\n",
    "first thing, if there is a time in the skillset just put the `Position to be closed` value:"
   ]
  },
  {
   "cell_type": "code",
   "execution_count": 383,
   "id": "2b5f2b60",
   "metadata": {},
   "outputs": [],
   "source": [
    "data[\"Nature of Skillset\"] = data.apply(lambda row: replace_time_with_position(row[\"Nature of Skillset\"],row[\"Position to be closed\"]),axis=1)"
   ]
  },
  {
   "cell_type": "markdown",
   "id": "0d3355e4",
   "metadata": {},
   "source": [
    "Clean up some of these skills:"
   ]
  },
  {
   "cell_type": "code",
   "execution_count": 384,
   "id": "b3becdc3",
   "metadata": {},
   "outputs": [],
   "source": [
    "data[\"skillset\"] = data['Nature of Skillset'].apply(lambda row: clean_skills(row))\n",
    "data[\"is_lead_or_manager\"] = data.apply(lambda row: lead_or_manager_skills_fix(row['Nature of Skillset'],row['Position to be closed'],position_or_lead=\"lead\"),axis=1)\n",
    "data[\"skillset\"] = data.apply(lambda row: lead_or_manager_skills_fix(row[\"skillset\"],row['Position to be closed'],position_or_lead=\"position\"),axis=1)"
   ]
  },
  {
   "cell_type": "code",
   "execution_count": 385,
   "id": "abb6df91",
   "metadata": {},
   "outputs": [],
   "source": [
    "skill_replacements = {\"java_j2ee_struts_hibernate_spring_jsf_xml\":[\"java_j2ee_struts_hibernate\",\"java_spring_hibernate_jsf\",\n",
    "                        \"java_j2ee\",\"java_spring_hibernate\",\"java_j2ee_core_java\",\"java_jsf\",\"java_j2ee_jsf\",\n",
    "                        \"java_xml_struts_hibernate\"],\n",
    "                        \"java_developer\":[\"java\",\"core_java\",\"java_sql\"],\n",
    "                        \"cdd_kyc\":[\"aml_kyc_cdd\"],\n",
    "                        \"lending_and_liabilities\":[\"l_and_l\",\"lending_and_liablities\"],\n",
    "                        \"biosimillar\":[\"biosimilars\"],\n",
    "                        \"oracle\":[\"oracle_plsql\"],\n",
    "                        \"label\":[\"ra_label\",\"global_labelling\"],\"cots\":[\"cots_developer\"]\n",
    "                     }\n",
    "    \n",
    "tester = data['skillset'].apply(lambda row: replace_skills(row,skill_replacements))"
   ]
  },
  {
   "cell_type": "markdown",
   "id": "fc460627",
   "metadata": {},
   "source": [
    "get posts that are for manager,senior, or lead positions:"
   ]
  },
  {
   "cell_type": "code",
   "execution_count": 386,
   "id": "4be1ea09",
   "metadata": {},
   "outputs": [],
   "source": [
    "skill_replacements = {\"lending_and_liabilities\":[\"l_and_l\",\"lending_and_liability\"],\n",
    "                      \"biosimillar\":[\"biosimilars\"],\n",
    "                      \"etl\":[\"tl\"]\n",
    "                     }\n",
    "    \n",
    "data['skillset'] = data['skillset'].apply(lambda row: replace_skills(row,skill_replacements))"
   ]
  },
  {
   "cell_type": "code",
   "execution_count": 387,
   "id": "ca45c0fd",
   "metadata": {},
   "outputs": [],
   "source": [
    "role_values = {\"java\":[\"java\"],\"j2ee\":[\"j2ee\"],\"hibernate\":[\"hibernate\"],\n",
    "               \"jsf\":[\"jsf\"],\"spring\":[\"spring\"],\"sql\":[\"sql\",\"ms_exchange\"],\n",
    "               \"sas\":[\"sas\"],\"sccm\":[\"sccm\"],\"aml\":[\"aml\"],\"ra\":[\"ra\"],\n",
    "               \"developer\":[\"developer\",\"software_engineer\"],\"testing\":[\"testing\"],\n",
    "               \"production\":[\"production\"],\"mednet\":[\"mednet\"],\"operations\":[\"operations\"],\n",
    "               \"cots\":[\"cots\"],\"oracle\":[\"oracle\"],\"analytics\":[\"analy\"],\"regulatory\":[\"regulatory\"],\n",
    "               \"hadoop\":[\"hadoop\"],\"automation\":[\"automation\"],\"label\":[\"label\"],\"fresher\":[\"fresher\"],\n",
    "               \"cdd_kyc\":[\"cdd_kyc\"],\"dot_net\":[\"dot_net\"],\"emea\":[\"emea\"],\"routine\":[\"routine\"],\n",
    "               \"lending_and_liabilities\":[\"lending_and_liabilities\"],\"biosimillar\":[\"biosimillar\"],\n",
    "               \"etl\":[\"etl\"],\"publishing\":[\"publishing\"],\"#name?\":[\"#name?\"],\n",
    "                 \"support\":[\"support\"],\"network\":[\"network\"]}"
   ]
  },
  {
   "cell_type": "markdown",
   "id": "7ef141dd",
   "metadata": {},
   "source": [
    "let's get all of the values to make individual columns:"
   ]
  },
  {
   "cell_type": "code",
   "execution_count": 388,
   "id": "57441f1e",
   "metadata": {},
   "outputs": [],
   "source": [
    "for val in role_values.keys():  \n",
    "    col_name = f\"{val}_role\"\n",
    "    data[col_name] = data.skillset.apply(lambda skill: value_contained_skill(skill,role_values[val]))"
   ]
  },
  {
   "cell_type": "markdown",
   "id": "0e559a19",
   "metadata": {},
   "source": [
    "ok, now to fill in null values.\n",
    "\n",
    "The \"na\" value in pandas are read already as null values. no need to run the following to impute them to nan:\n",
    "\n",
    "```\n",
    "cols = ['Are you clear with the venue details and the landmark.',\n",
    "        'Have you taken a printout of your updated resume. Have you read the JD and understood the same',\n",
    "        'Can I have an alternative number/ desk number. I assure you that I will not trouble you too much',\n",
    "        'Can I Call you three hours before the interview and follow up on your attendance for the interview',\n",
    "        'Have you obtained the necessary permission to start at the required time',\n",
    "        'Has the call letter been shared','Hope there will be no unscheduled meetings']\n",
    "\n",
    "for i in cols:\n",
    "    data[i] = data[i].replace(to_replace='na', value=None)\n",
    "    print(data[i].unique())`\n",
    "```\n",
    "\n",
    "for simplicities sake of this challenge I will be filling the missing values with the mode values. XGBoost is an option to use in a case like this as well, but to be more intreprtable, we're going to continue with this methid.\n",
    "\n",
    "I will be removing the row from the DataFrame that do not have values in the dependent variable."
   ]
  },
  {
   "cell_type": "code",
   "execution_count": 389,
   "id": "4c89cea7",
   "metadata": {},
   "outputs": [],
   "source": [
    "l = data.isnull().sum()\n",
    "l = pd.DataFrame(l)\n",
    "na_columns = l[l[0] > 0].index.to_list()"
   ]
  },
  {
   "cell_type": "code",
   "execution_count": 390,
   "id": "95eb3e2f",
   "metadata": {},
   "outputs": [
    {
     "data": {
      "text/plain": [
       "'Observed Attendance'"
      ]
     },
     "execution_count": 390,
     "metadata": {},
     "output_type": "execute_result"
    }
   ],
   "source": [
    "na_columns.pop(-1)"
   ]
  },
  {
   "cell_type": "code",
   "execution_count": 391,
   "id": "1a2271a8",
   "metadata": {},
   "outputs": [],
   "source": [
    "for col in na_columns:\n",
    "    val_to_fill = data[col].mode()[0]\n",
    "    data[col] = data[col].fillna(val_to_fill)"
   ]
  },
  {
   "cell_type": "markdown",
   "id": "edb9703c",
   "metadata": {},
   "source": [
    "I will be dropping here are: `Nature of Skillset`,`Location`"
   ]
  },
  {
   "cell_type": "code",
   "execution_count": 392,
   "id": "44decd14",
   "metadata": {},
   "outputs": [],
   "source": [
    "data.drop([\"Nature of Skillset\",\"Location\"],axis=1,inplace=True)"
   ]
  },
  {
   "cell_type": "markdown",
   "id": "90429f73",
   "metadata": {},
   "source": [
    "get month and day extracted from `Date of Interview`, then drop the column:"
   ]
  },
  {
   "cell_type": "code",
   "execution_count": 393,
   "id": "22c93178",
   "metadata": {},
   "outputs": [],
   "source": [
    "data[\"month\"] = data[\"Date of Interview\"].apply(lambda date: date.month)\n",
    "data[\"day\"] = data[\"Date of Interview\"].apply(lambda date: date.day)\n",
    "data[\"day_of_year\"] = data[\"Date of Interview\"].apply(lambda date: date.timetuple().tm_yday)"
   ]
  },
  {
   "cell_type": "code",
   "execution_count": 394,
   "id": "37547bdf",
   "metadata": {},
   "outputs": [],
   "source": [
    "data.drop([\"Date of Interview\"],axis=1,inplace=True)"
   ]
  },
  {
   "cell_type": "markdown",
   "id": "cc8107ec",
   "metadata": {},
   "source": [
    "Now to deal with options for locations so we can remove some of these categorical values. We will use the google api to get values for the following:\n",
    "    \n",
    "distance between:\n",
    "- `Candidate Current Location` from `Candidate Job Location`\n",
    "- `Candidate Current Location` from `Interview Venue`\n",
    "- `Candidate Current Location` from `Candidate Native location`\n",
    "- `Candidate Job Location` from `Interview Venue`\n",
    "- `Candidate Job Location` from `Candidate Native location`\n",
    "- `Interview Venue` from `Candidate Native location`"
   ]
  },
  {
   "cell_type": "code",
   "execution_count": 395,
   "id": "900b057c",
   "metadata": {},
   "outputs": [],
   "source": [
    "distaince_to_check = [('Candidate Current Location','Candidate Job Location'),\n",
    "                      ('Candidate Current Location','Interview Venue'),\n",
    "                      ('Candidate Current Location','Candidate Native location'),\n",
    "                      ('Candidate Job Location','Interview Venue'),\n",
    "                      ('Candidate Job Location','Candidate Native location'),\n",
    "                      ('Interview Venue','Candidate Native location')]"
   ]
  },
  {
   "cell_type": "code",
   "execution_count": 398,
   "id": "ace08dc7",
   "metadata": {},
   "outputs": [],
   "source": [
    "with open('../api_key.pickle', 'rb') as handle:\n",
    "    api_info = pickle.load(handle)\n",
    "\n",
    "gmaps = googlemaps.Client(key=api_info[\"api_key\"]) "
   ]
  },
  {
   "cell_type": "code",
   "execution_count": null,
   "id": "d791a7b9",
   "metadata": {},
   "outputs": [],
   "source": [
    "loc_cols = [\"Candidate Current Location\",\"Candidate Job Location\",\"Interview Venue\",\"Candidate Native location\"]\n",
    "\n",
    "locs = []\n",
    "for col in loc_cols:\n",
    "    locs.extend(data[col].unique())\n",
    "\n",
    "locs = list(set(locs))\n",
    "locs = [f\"{city}, India\" for city in locs]"
   ]
  },
  {
   "cell_type": "code",
   "execution_count": null,
   "id": "1ad82706",
   "metadata": {},
   "outputs": [],
   "source": [
    "distances = {}\n",
    "\n",
    "for c in itertools.combinations(locs, 2):\n",
    "    distances[c] = get_city_diff(c[0],c[1])\n",
    "    \n",
    "updated_distances = {}\n",
    "\n",
    "for i in distances:\n",
    "    one,two = clean(i[0]),clean(i[1])\n",
    "    if one[1] > two[1]:\n",
    "        try:\n",
    "            updated_distances[one][two] = distances[i]\n",
    "        except:\n",
    "            updated_distances[one] = {}\n",
    "            updated_distances[one][two] = distances[i]\n",
    "    else: \n",
    "        try:\n",
    "            updated_distances[two][one] = distances[i]\n",
    "        except:\n",
    "            updated_distances[two] = {}\n",
    "            updated_distances[two][one] = distances[i]"
   ]
  },
  {
   "cell_type": "markdown",
   "id": "a835f153",
   "metadata": {},
   "source": [
    "Now that we have all the differences, we are going to use them to fill in these four distance columns:"
   ]
  },
  {
   "cell_type": "code",
   "execution_count": 396,
   "id": "56c04d1d",
   "metadata": {},
   "outputs": [],
   "source": [
    "with open('city_distances_updated.pickle', 'rb') as handle:\n",
    "    distances = pickle.load(handle)"
   ]
  },
  {
   "cell_type": "code",
   "execution_count": 402,
   "id": "f72dcdf9",
   "metadata": {},
   "outputs": [],
   "source": [
    "\n",
    "distaince_to_check = [('Candidate Current Location','Candidate Job Location'),\n",
    "                      ('Candidate Current Location','Interview Venue'),\n",
    "                      ('Candidate Current Location','Candidate Native location'),\n",
    "                      ('Candidate Job Location','Interview Venue'),\n",
    "                      ('Candidate Job Location','Candidate Native location'),\n",
    "                      ('Interview Venue','Candidate Native location')]\n",
    "    \n",
    "for col in distaince_to_check:\n",
    "    new_col = ' to '.join(col).replace(' ','_')\n",
    "    data[new_col] = data.apply(lambda row:get_distance(row[col[0]],row[col[1]],distances),axis=1)\n",
    "    "
   ]
  },
  {
   "cell_type": "markdown",
   "id": "59dd0425",
   "metadata": {},
   "source": [
    "create a feature for number of skills included:"
   ]
  },
  {
   "cell_type": "code",
   "execution_count": 403,
   "id": "0a416ca5",
   "metadata": {},
   "outputs": [],
   "source": [
    "components = [col for col in data.columns.to_list() if col.find('_role') != -1]\n",
    "data[\"number_of_skills\"] = data[components].gt(0).sum(axis=1)"
   ]
  },
  {
   "cell_type": "markdown",
   "id": "2d10eeb8",
   "metadata": {},
   "source": [
    "### EDA and Feature Selection:\n",
    "\n",
    "For time's sake, I am keeping this section simple."
   ]
  },
  {
   "cell_type": "markdown",
   "id": "80caa7e4",
   "metadata": {},
   "source": [
    "Now we need to one hot encode the categorical columns (dropping the first level of the category):"
   ]
  },
  {
   "cell_type": "code",
   "execution_count": 407,
   "id": "ec84fd75",
   "metadata": {},
   "outputs": [],
   "source": [
    "# object\n",
    "y = data.pop('Observed Attendance') #remove the target variable\n",
    "obj_cols = data.select_dtypes(include=object).columns.to_list()\n",
    "\n",
    "df_dummies = pd.get_dummies(data,columns=obj_cols,drop_first=True)"
   ]
  },
  {
   "cell_type": "code",
   "execution_count": 441,
   "id": "1146663a",
   "metadata": {},
   "outputs": [],
   "source": [
    "df_final = pd.concat([df_dummies,y], axis=1)"
   ]
  },
  {
   "cell_type": "markdown",
   "id": "7ba27244",
   "metadata": {},
   "source": [
    "Now, split the data that is missing it target values:"
   ]
  },
  {
   "cell_type": "code",
   "execution_count": 442,
   "id": "9e9375e7",
   "metadata": {},
   "outputs": [],
   "source": [
    "missing_dep = df_final[df_final['Observed Attendance'].isna()]\n",
    "missing_dep_y = missing_dep.pop('Observed Attendance')\n",
    "df = df_final[~df_final['Observed Attendance'].isna()]\n",
    "y = df.pop('Observed Attendance')"
   ]
  },
  {
   "cell_type": "markdown",
   "id": "2168ddd8",
   "metadata": {},
   "source": [
    "I'm going to drop the `Name(Cand ID)` it doesn't offer any details about the candidate really."
   ]
  },
  {
   "cell_type": "code",
   "execution_count": null,
   "id": "ebf06ce6",
   "metadata": {},
   "outputs": [],
   "source": [
    "df.drop([\"Name(Cand ID)\"],axis=1,inplace=True)"
   ]
  },
  {
   "cell_type": "markdown",
   "id": "40c2fe4e",
   "metadata": {},
   "source": [
    "determine feature relationship to the target variable to reduce number of features:"
   ]
  },
  {
   "cell_type": "code",
   "execution_count": 443,
   "id": "2fa58654",
   "metadata": {},
   "outputs": [],
   "source": [
    "from sklearn.feature_selection import mutual_info_regression\n",
    "\n",
    "X = df.copy()\n",
    "\n",
    "# Label encoding for categoricals\n",
    "for colname in X.select_dtypes(\"object\"):\n",
    "    X[colname], _ = X[colname].factorize()\n",
    "\n",
    "# All discrete features should now have integer dtypes (double-check this before using MI!)\n",
    "discrete_features = X.dtypes == int\n",
    "\n",
    "target = pd.get_dummies(y,drop_first=True)\n",
    "\n",
    "def make_mi_scores(X, y, discrete_features):\n",
    "    mi_scores = mutual_info_regression(X, y, discrete_features=discrete_features)\n",
    "    mi_scores = pd.Series(mi_scores, name=\"MI Scores\", index=X.columns)\n",
    "    mi_scores = mi_scores.sort_values(ascending=False)\n",
    "    return mi_scores\n",
    "\n",
    "mi_scores = make_mi_scores(X, target, discrete_features)"
   ]
  },
  {
   "cell_type": "code",
   "execution_count": 130,
   "id": "1712029b",
   "metadata": {},
   "outputs": [],
   "source": [
    "# mi_scores.head(50)"
   ]
  },
  {
   "cell_type": "markdown",
   "id": "185b49d5",
   "metadata": {},
   "source": [
    "We can use these **Mutual Importance (MI)** scores for feature importance to be able to reduce the complexity of this model. For simplicity, I am going to take all of columns with an MI greater than 0."
   ]
  },
  {
   "cell_type": "code",
   "execution_count": 444,
   "id": "2ae8f7ab",
   "metadata": {},
   "outputs": [],
   "source": [
    "keep_features = mi_scores[mi_scores>0].index.to_list()\n",
    "df_features = df[keep_features].copy()"
   ]
  },
  {
   "cell_type": "code",
   "execution_count": 96,
   "id": "23a7414e",
   "metadata": {},
   "outputs": [],
   "source": [
    "# plt.figure(figsize=(16, 6))\n",
    "# # define the mask to set the values in the upper triangle to True\n",
    "# mask = np.triu(np.ones_like(df_features.corr(), dtype=np.bool))\n",
    "# heatmap = sns.heatmap(df_features.corr(), mask=mask, vmin=-1, vmax=1, annot=True)\n",
    "# heatmap.set_title('Correlation Heatmap', fontdict={'fontsize':18}, pad=16);"
   ]
  },
  {
   "cell_type": "markdown",
   "id": "6829bff4",
   "metadata": {},
   "source": [
    "if correlations between columns is above 0.75 we're going to drop the one that is less correlated with our target:"
   ]
  },
  {
   "cell_type": "code",
   "execution_count": 445,
   "id": "effc3e36",
   "metadata": {},
   "outputs": [],
   "source": [
    "corr_df = df_features.corr()\n",
    "\n",
    "corr_gt = corr_df[corr_df.gt(0.75)]\n",
    "\n",
    "gt_values = []\n",
    "\n",
    "for col in corr_df.columns:\n",
    "    corrs = [row for row in corr_gt[~corr_gt[col].isna()].index.to_list() if row!=col]\n",
    "    if corrs != []:\n",
    "        for feat in corrs:\n",
    "            if mi_scores[feat] <= mi_scores[col]:\n",
    "                gt_values.append(feat)\n",
    "                    \n",
    "            else:\n",
    "                pass\n",
    "    else:\n",
    "        pass"
   ]
  },
  {
   "cell_type": "code",
   "execution_count": 446,
   "id": "7a42e67a",
   "metadata": {},
   "outputs": [],
   "source": [
    "vals_to_drop = list(set(gt_values))"
   ]
  },
  {
   "cell_type": "code",
   "execution_count": 447,
   "id": "7cf85ec3",
   "metadata": {},
   "outputs": [],
   "source": [
    "df_features.drop(vals_to_drop,axis=1,inplace=True)"
   ]
  },
  {
   "cell_type": "code",
   "execution_count": 436,
   "id": "4a05fbaf",
   "metadata": {},
   "outputs": [],
   "source": [
    "X = df_features.copy()"
   ]
  },
  {
   "cell_type": "code",
   "execution_count": 448,
   "id": "b0209c9c",
   "metadata": {},
   "outputs": [],
   "source": [
    "X_train, X_test, y_train, y_test = train_test_split(df_features, y, test_size=0.20, random_state=22)"
   ]
  },
  {
   "cell_type": "markdown",
   "id": "c9cd8777",
   "metadata": {},
   "source": [
    "Below with the different training we will be using `Accurcay` and `Recall` to determine how well the models preform. \n",
    "\n",
    "Since we're trying to identify users who aren't likely to show up. I think our main concern here is simply wasting the team's time waiting for candidates to show. So, we just want to know if we say a user will show up that they will -- Recall. However, we also don't want to flag a candidate as not showing up and then they do, which is why I think accuracy is also something to keep in mind.\n",
    "\n",
    "The below code is selecting the best features and number of features for our logistic regression model, we're including penaltyies (l1 & l2) to see what preforms better:"
   ]
  },
  {
   "cell_type": "markdown",
   "id": "1ad21aff",
   "metadata": {},
   "source": [
    "try without the MI columns removed before:"
   ]
  },
  {
   "cell_type": "code",
   "execution_count": 449,
   "id": "2c41a7dc",
   "metadata": {},
   "outputs": [
    {
     "name": "stdout",
     "output_type": "stream",
     "text": [
      "Optimal number of features: 45\n",
      "Selected features: ['mednet_role', 'hadoop_role', 'emea_role', 'etl_role', 'publishing_role', '#name?_role', 'support_role', 'Candidate_Current_Location_to_Candidate_Job_Location', 'Candidate_Current_Location_to_Interview_Venue', 'Candidate_Current_Location_to_Candidate_Native_location', 'Candidate_Job_Location_to_Interview_Venue', 'Candidate_Job_Location_to_Candidate_Native_location', 'Interview_Venue_to_Candidate_Native_location', 'Client name_barclays', 'Client name_hospira', 'Client name_williams_lea', 'Position to be closed_production_sterile', 'Candidate Current Location_noida', 'Candidate Job Location_visakapatinam', 'Interview Venue_chennai', 'Interview Venue_hosur', 'Interview Venue_hyderabad', 'Candidate Native location_ahmedabad', 'Candidate Native location_baddi', 'Candidate Native location_chennai', 'Candidate Native location_hosur', 'Candidate Native location_noida', 'Candidate Native location_pondicherry', 'Have you obtained the necessary permission to start at the required time_no', 'Hope there will be no unscheduled meetings_not sure', 'Have you taken a printout of your updated resume. Have you read the JD and understood the same_no', 'Are you clear with the venue details and the landmark._no', 'Has the call letter been shared_no', 'skillset_aml_kyc_cdd', 'skillset_basesas_program_reporting', 'skillset_biosimiliars', 'skillset_cots', 'skillset_cots_developer', 'skillset_emea', 'skillset_etl', 'skillset_fresher', 'skillset_generic_drugs_ra', 'skillset_global_labelling', 'skillset_ra_publishing', 'skillset_sccm_sharepoint']\n"
     ]
    },
    {
     "data": {
      "image/png": "[encoded data removed]",
      "text/plain": [
       "<Figure size 720x432 with 1 Axes>"
      ]
     },
     "metadata": {
      "needs_background": "light"
     },
     "output_type": "display_data"
    }
   ],
   "source": [
    "X_train_2, X_test_2, y_train_2, y_test_2 = train_test_split(df, y, test_size=0.20, random_state=22)\n",
    "\n",
    "scaler = StandardScaler()\n",
    "scaler.fit(X_train_2)\n",
    "\n",
    "# Create the RFE object and compute a cross-validated score.\n",
    "# The \"accuracy\" scoring is proportional to the number of correct classifications\n",
    "rfecv = RFECV(estimator=LogisticRegression(C=1, penalty='l2',solver='liblinear'), step=1, cv=10, scoring='accuracy')\n",
    "rfecv.fit(scaler.transform(X_train_2.fillna(0)), y_train_2)\n",
    "\n",
    "print(\"Optimal number of features: %d\" % rfecv.n_features_)\n",
    "print('Selected features: %s' % list(X.columns[rfecv.support_]))\n",
    "\n",
    "# Plot number of features VS. cross-validation scores\n",
    "plt.figure(figsize=(10,6))\n",
    "plt.xlabel(\"Number of features selected\")\n",
    "plt.ylabel(\"Cross validation score (nb of correct classifications)\")\n",
    "plt.plot(range(1, len(rfecv.grid_scores_) + 1), rfecv.grid_scores_)\n",
    "plt.show()\n"
   ]
  },
  {
   "cell_type": "code",
   "execution_count": 450,
   "id": "d3b87028",
   "metadata": {},
   "outputs": [
    {
     "name": "stdout",
     "output_type": "stream",
     "text": [
      "Optimal number of features: 30\n",
      "Selected features: ['emea_role', 'support_role', 'Candidate_Current_Location_to_Candidate_Native_location', 'Client name_astrazeneca', 'Client name_hospira', 'Client name_standard_chartered_bank', 'Position to be closed_niche', 'Candidate Job Location_visakapatinam', 'Interview Venue_hosur', 'Candidate Native location_ahmedabad', 'Candidate Native location_baddi', 'Candidate Native location_chennai', 'Candidate Native location_nagercoil', 'Candidate Native location_noida', 'Candidate Native location_pondicherry', 'Candidate Native location_trivandrum', 'Have you obtained the necessary permission to start at the required time_no', 'Hope there will be no unscheduled meetings_not sure', 'Have you taken a printout of your updated resume. Have you read the JD and understood the same_no', 'Are you clear with the venue details and the landmark._no', 'Has the call letter been shared_no', 'Has the call letter been shared_yes', 'skillset_basesas_program_reporting', 'skillset_biosimiliars', 'skillset_cots', 'skillset_cots_developer', 'skillset_etl', 'skillset_java_j2ee_jsf', 'skillset_java_j2ee_struts_hibernate', 'skillset_lending_and_liablities']\n"
     ]
    },
    {
     "data": {
      "image/png": "[encoded data removed]",
      "text/plain": [
       "<Figure size 720x432 with 1 Axes>"
      ]
     },
     "metadata": {
      "needs_background": "light"
     },
     "output_type": "display_data"
    }
   ],
   "source": [
    "# Create the RFE object and compute a cross-validated score.\n",
    "# The \"accuracy\" scoring is proportional to the number of correct classifications\n",
    "rfecv = RFECV(estimator=LogisticRegression(C=1, penalty='l1',solver='liblinear'), step=1, cv=10, scoring='accuracy')\n",
    "rfecv.fit(scaler.transform(X_train_2.fillna(0)), y_train_2)\n",
    "\n",
    "print(\"Optimal number of features: %d\" % rfecv.n_features_)\n",
    "print('Selected features: %s' % list(X.columns[rfecv.support_]))\n",
    "\n",
    "# Plot number of features VS. cross-validation scores\n",
    "plt.figure(figsize=(10,6))\n",
    "plt.xlabel(\"Number of features selected\")\n",
    "plt.ylabel(\"Cross validation score (nb of correct classifications)\")\n",
    "plt.plot(range(1, len(rfecv.grid_scores_) + 1), rfecv.grid_scores_)\n",
    "plt.show()"
   ]
  },
  {
   "cell_type": "code",
   "execution_count": 453,
   "id": "c8c83ac6",
   "metadata": {},
   "outputs": [
    {
     "data": {
      "text/plain": [
       "StandardScaler()"
      ]
     },
     "execution_count": 453,
     "metadata": {},
     "output_type": "execute_result"
    }
   ],
   "source": [
    "scaler = StandardScaler()\n",
    "scaler.fit(X_train)"
   ]
  },
  {
   "cell_type": "code",
   "execution_count": 462,
   "id": "2803c405",
   "metadata": {},
   "outputs": [
    {
     "name": "stdout",
     "output_type": "stream",
     "text": [
      "Optimal number of features: 1\n",
      "Selected features: ['Have you obtained the necessary permission to start at the required time_no']\n"
     ]
    },
    {
     "data": {
      "image/png": "[encoded data removed]",
      "text/plain": [
       "<Figure size 720x432 with 1 Axes>"
      ]
     },
     "metadata": {
      "needs_background": "light"
     },
     "output_type": "display_data"
    }
   ],
   "source": [
    "# Create the RFE object and compute a cross-validated score.\n",
    "# The \"accuracy\" scoring is proportional to the number of correct classifications\n",
    "rfecv = RFECV(estimator=LogisticRegression(C=1, penalty='l2',solver='liblinear'), step=1, cv=10, scoring='accuracy')\n",
    "rfecv.fit(scaler.transform(X_train.fillna(0)), y_train)\n",
    "\n",
    "print(\"Optimal number of features: %d\" % rfecv.n_features_)\n",
    "print('Selected features: %s' % list(X_train.columns[rfecv.support_]))\n",
    "\n",
    "# Plot number of features VS. cross-validation scores\n",
    "plt.figure(figsize=(10,6))\n",
    "plt.xlabel(\"Number of features selected\")\n",
    "plt.ylabel(\"Cross validation score (nb of correct classifications)\")\n",
    "plt.plot(range(1, len(rfecv.grid_scores_) + 1), rfecv.grid_scores_)\n",
    "plt.show()"
   ]
  },
  {
   "cell_type": "code",
   "execution_count": 463,
   "id": "0811c2f2",
   "metadata": {},
   "outputs": [
    {
     "name": "stdout",
     "output_type": "stream",
     "text": [
      "Optimal number of features: 32\n",
      "Selected features: ['Have you obtained the necessary permission to start at the required time_no', 'Candidate Native location_hyderabad', 'Candidate Job Location_visakapatinam', 'Candidate Native location_noida', 'skillset_java_j2ee_struts_hibernate', 'skillset_java_j2ee_jsf', 'Candidate Job Location_noida', 'skillset_sccm_sharepoint', 'Interview Type_walkin', 'Has the call letter been shared_yes', 'Are you clear with the venue details and the landmark._yes', 'Position to be closed_niche', 'Candidate Native location_pondicherry', 'Position to be closed_production_sterile', 'Have you taken a printout of your updated resume. Have you read the JD and understood the same_no', 'Industry_it', 'Client name_williams_lea', 'Hope there will be no unscheduled meetings_not sure', 'skillset_ra_label', 'skillset_fresher', 'skillset_cots', 'support_role', 'Candidate Current Location_hyderabad', 'emea_role', 'skillset_lending_and_liablities', 'Has the call letter been shared_no', 'Candidate Native location_nagercoil', '#name?_role', 'Candidate Native location_baddi', 'Candidate Native location_tanjore', 'network_role', 'skillset_als_testing']\n"
     ]
    },
    {
     "data": {
      "image/png": "[encoded data removed]",
      "text/plain": [
       "<Figure size 720x432 with 1 Axes>"
      ]
     },
     "metadata": {
      "needs_background": "light"
     },
     "output_type": "display_data"
    }
   ],
   "source": [
    "# Create the RFE object and compute a cross-validated score.\n",
    "# The \"accuracy\" scoring is proportional to the number of correct classifications\n",
    "rfecv = RFECV(estimator=LogisticRegression(C=1, penalty='l1',solver='liblinear'), step=1, cv=10, scoring='accuracy')\n",
    "rfecv.fit(scaler.transform(X_train.fillna(0)), y_train)\n",
    "\n",
    "print(\"Optimal number of features: %d\" % rfecv.n_features_)\n",
    "print('Selected features: %s' % list(X_train.columns[rfecv.support_]))\n",
    "\n",
    "# Plot number of features VS. cross-validation scores\n",
    "plt.figure(figsize=(10,6))\n",
    "plt.xlabel(\"Number of features selected\")\n",
    "plt.ylabel(\"Cross validation score (nb of correct classifications)\")\n",
    "plt.plot(range(1, len(rfecv.grid_scores_) + 1), rfecv.grid_scores_)\n",
    "plt.show()"
   ]
  },
  {
   "cell_type": "markdown",
   "id": "dfca2961",
   "metadata": {},
   "source": [
    "The model using the sklearn column selection model preformed better than the one making use of MI and correlation. So, we'll go forward with that.\n",
    "\n",
    "Testing to see how results are for if we only use the one column `Have you obtained the necessary permission to start at the required time_yes` to predict if candidates will show:"
   ]
  },
  {
   "cell_type": "code",
   "execution_count": 149,
   "id": "ce615795",
   "metadata": {},
   "outputs": [],
   "source": [
    "result = pd.concat([X_test['Have you obtained the necessary permission to start at the required time_yes'], y_test], axis=1)"
   ]
  },
  {
   "cell_type": "code",
   "execution_count": 150,
   "id": "6f6a6be0",
   "metadata": {},
   "outputs": [],
   "source": [
    "#getting target into 1/0's\n",
    "result[\"y\"] =  result['Observed Attendance'].apply(lambda row: zeros_and_ones(row))\n",
    "\n",
    "#getting if \"predictions\" were correct\n",
    "result[\"correct\"] = result['Have you obtained the necessary permission to start at the required time_yes'] == result[\"y\"]\n",
    "\n",
    "result['results'] = result.apply(lambda row: confusion_data(row),axis=1) #getting confusion matrix data"
   ]
  },
  {
   "cell_type": "code",
   "execution_count": 201,
   "id": "1c46bc78",
   "metadata": {},
   "outputs": [
    {
     "name": "stdout",
     "output_type": "stream",
     "text": [
      "Accuracy is: 0.6929824561403509\n",
      "Recall is: 0.6682926829268293\n"
     ]
    }
   ],
   "source": [
    "true_pos = sum(result['results'] == 'true_pos')\n",
    "false_pos = sum(result['results'] == 'false_pos')\n",
    "\n",
    "Tr = sum(result[\"correct\"]==True)\n",
    "F = sum(result[\"correct\"]==False)\n",
    "\n",
    "print(f\"Accuracy is: {(Tr/(Tr+F))}\")\n",
    "print(f\"Recall is: {(true_pos/(true_pos+false_pos))}\")"
   ]
  },
  {
   "cell_type": "code",
   "execution_count": 466,
   "id": "154d8179",
   "metadata": {},
   "outputs": [
    {
     "data": {
      "text/plain": [
       "StandardScaler()"
      ]
     },
     "execution_count": 466,
     "metadata": {},
     "output_type": "execute_result"
    }
   ],
   "source": [
    "scaler_2 = StandardScaler()\n",
    "scaler_2.fit(X_train_2[best_cols])"
   ]
  },
  {
   "cell_type": "code",
   "execution_count": 492,
   "id": "a8fabdd4",
   "metadata": {},
   "outputs": [
    {
     "name": "stdout",
     "output_type": "stream",
     "text": [
      "Accuracy: 73.356% (3.255%)\n"
     ]
    }
   ],
   "source": [
    "from sklearn.model_selection import KFold\n",
    "from sklearn.model_selection import cross_val_score\n",
    "from sklearn.linear_model import LogisticRegression\n",
    "from sklearn.metrics import confusion_matrix\n",
    "from sklearn.metrics import classification_report\n",
    "\n",
    "best_cols = ['emea_role', 'support_role', 'Candidate_Current_Location_to_Candidate_Native_location', \n",
    "             'Client name_astrazeneca', 'Client name_hospira', 'Client name_standard_chartered_bank', \n",
    "             'Position to be closed_niche', 'Candidate Job Location_visakapatinam', 'Interview Venue_hosur',\n",
    "             'Candidate Native location_ahmedabad', 'Candidate Native location_baddi', \n",
    "             'Candidate Native location_chennai', 'Candidate Native location_nagercoil', \n",
    "             'Candidate Native location_noida', 'Candidate Native location_pondicherry', \n",
    "             'Candidate Native location_trivandrum', \n",
    "             'Have you obtained the necessary permission to start at the required time_no', \n",
    "             'Hope there will be no unscheduled meetings_not sure', \n",
    "             'Have you taken a printout of your updated resume. Have you read the JD and understood the same_no', \n",
    "             'Are you clear with the venue details and the landmark._no', \n",
    "             'Has the call letter been shared_no', 'Has the call letter been shared_yes', \n",
    "             'skillset_basesas_program_reporting', 'skillset_biosimiliars', 'skillset_cots', \n",
    "             'skillset_cots_developer', 'skillset_etl', 'skillset_java_j2ee_jsf', \n",
    "             'skillset_java_j2ee_struts_hibernate', 'skillset_lending_and_liablities']\n",
    "\n",
    "\n",
    "# 5 folds selected\n",
    "kfold = KFold(n_splits=5, random_state=0, shuffle=True)\n",
    "model = LogisticRegression(C=1, penalty='l1',solver='liblinear',random_state=42)\n",
    "results = cross_val_score(model, scaler_2.transform(X_train_2[best_cols].fillna(0)), y_train_2, cv=kfold)\n",
    "# Output the accuracy. Calculate the mean and std across all folds. \n",
    "print(\"Accuracy: %.3f%% (%.3f%%)\" % (results.mean()*100.0, results.std()*100.0))"
   ]
  },
  {
   "cell_type": "code",
   "execution_count": 493,
   "id": "f7f4fba4",
   "metadata": {},
   "outputs": [
    {
     "name": "stdout",
     "output_type": "stream",
     "text": [
      "[[ 27  62]\n",
      " [ 10 129]]\n",
      "Test Accuracy of the model: 0.6842105263157895\n"
     ]
    }
   ],
   "source": [
    "model.fit(scaler_2.transform(X_train_2[best_cols].fillna(0)), y_train_2)\n",
    "predicted = model.predict(scaler_2.transform(X_test_2[best_cols]))\n",
    "matrix = confusion_matrix(y_test_2, predicted)\n",
    "print(matrix)\n",
    "print(f\"Test Accuracy of the model: {model.score(scaler_2.transform(X_test_2[best_cols]), y_test_2)}\")"
   ]
  },
  {
   "cell_type": "code",
   "execution_count": 494,
   "id": "a775f0ac",
   "metadata": {},
   "outputs": [
    {
     "data": {
      "text/html": [
       "<div>\n",
       "<style scoped>\n",
       "    .dataframe tbody tr th:only-of-type {\n",
       "        vertical-align: middle;\n",
       "    }\n",
       "\n",
       "    .dataframe tbody tr th {\n",
       "        vertical-align: top;\n",
       "    }\n",
       "\n",
       "    .dataframe thead th {\n",
       "        text-align: right;\n",
       "    }\n",
       "</style>\n",
       "<table border=\"1\" class=\"dataframe\">\n",
       "  <thead>\n",
       "    <tr style=\"text-align: right;\">\n",
       "      <th></th>\n",
       "      <th>Did Show</th>\n",
       "      <th>Did Not show</th>\n",
       "    </tr>\n",
       "  </thead>\n",
       "  <tbody>\n",
       "    <tr>\n",
       "      <th>Predicted_Showing</th>\n",
       "      <td>27</td>\n",
       "      <td>62</td>\n",
       "    </tr>\n",
       "    <tr>\n",
       "      <th>Predicted_No_showing</th>\n",
       "      <td>10</td>\n",
       "      <td>129</td>\n",
       "    </tr>\n",
       "  </tbody>\n",
       "</table>\n",
       "</div>"
      ],
      "text/plain": [
       "                      Did Show  Did Not show\n",
       "Predicted_Showing           27            62\n",
       "Predicted_No_showing        10           129"
      ]
     },
     "execution_count": 494,
     "metadata": {},
     "output_type": "execute_result"
    }
   ],
   "source": [
    "confmtrx = np.array(matrix)\n",
    "pd.DataFrame(confmtrx, index=['Predicted_Showing','Predicted_No_showing'],\n",
    "columns=['Did Show', 'Did Not show', ])"
   ]
  },
  {
   "cell_type": "markdown",
   "id": "8fdb4145",
   "metadata": {},
   "source": [
    "Predictions for the results from the missing data using the logistic regression model:"
   ]
  },
  {
   "cell_type": "code",
   "execution_count": 505,
   "id": "c5b45e2f",
   "metadata": {},
   "outputs": [],
   "source": [
    "predicted_results = model.predict(scaler_2.transform(missing_dep[best_cols]))\n",
    "pred_prob = model.predict_proba(scaler_2.transform(missing_dep[best_cols]))"
   ]
  },
  {
   "cell_type": "code",
   "execution_count": 528,
   "id": "e92ddb1e",
   "metadata": {},
   "outputs": [],
   "source": [
    "# pd.concat([, missing_dep[best_cols]])\n",
    "missing_dep['predicted_outcomes'] = predicted_results\n",
    "missing_dep[['predicted_probabilities_no']] = np.array(pd.DataFrame(pred_prob)[0])\n",
    "missing_dep[['predicted_probabilities_yes']] = np.array(pd.DataFrame(pred_prob)[1])\n",
    "# pd.DataFrame(pred_prob)"
   ]
  },
  {
   "cell_type": "code",
   "execution_count": 530,
   "id": "c6b746b0",
   "metadata": {},
   "outputs": [],
   "source": [
    "missing_vals = pd.merge(missing_dep,here, left_index=True, right_index=True)"
   ]
  },
  {
   "cell_type": "code",
   "execution_count": 534,
   "id": "431644a3",
   "metadata": {},
   "outputs": [],
   "source": [
    "model_preds = missing_vals[['Name(Cand ID)','predicted_outcomes','predicted_probabilities_no','predicted_probabilities_yes']]"
   ]
  },
  {
   "cell_type": "code",
   "execution_count": 535,
   "id": "6ffaaaf4",
   "metadata": {},
   "outputs": [],
   "source": [
    "model_preds.to_csv('model_predictions.csv')"
   ]
  },
  {
   "cell_type": "markdown",
   "id": "f329409e",
   "metadata": {},
   "source": [
    "predictions just using the `Have you obtained the necessary permission to start at the required time_yes` feature:"
   ]
  },
  {
   "cell_type": "code",
   "execution_count": 536,
   "id": "48b801ed",
   "metadata": {},
   "outputs": [],
   "source": [
    "single_var_pred = missing_dep.copy()\n",
    "single_var_pred['predicted_outcomes']=single_var_pred['Have you obtained the necessary permission to start at the required time_yes']"
   ]
  },
  {
   "cell_type": "code",
   "execution_count": 537,
   "id": "64dcc0c1",
   "metadata": {},
   "outputs": [],
   "source": [
    "single_var_pred['predicted_probability'] = 0.69"
   ]
  },
  {
   "cell_type": "code",
   "execution_count": 538,
   "id": "bb779a3f",
   "metadata": {},
   "outputs": [],
   "source": [
    "missing_vals_2 = pd.merge(single_var_pred,here, left_index=True, right_index=True)"
   ]
  },
  {
   "cell_type": "code",
   "execution_count": 584,
   "id": "3da48f67",
   "metadata": {},
   "outputs": [],
   "source": [
    "missing_vals_2['predicted_prob_show'] = missing_vals_2['predicted_probability'].apply(lambda row: get_prob(row))"
   ]
  },
  {
   "cell_type": "code",
   "execution_count": 585,
   "id": "c0469788",
   "metadata": {},
   "outputs": [],
   "source": [
    "missing_vals_2[['Name(Cand ID)','predicted_outcomes','predicted_prob_show']].to_csv('single_feature_prediction.csv')"
   ]
  },
  {
   "cell_type": "markdown",
   "id": "51a84cf0",
   "metadata": {},
   "source": [
    "Model feature importance:"
   ]
  },
  {
   "cell_type": "code",
   "execution_count": 547,
   "id": "3f057b63",
   "metadata": {},
   "outputs": [
    {
     "name": "stdout",
     "output_type": "stream",
     "text": [
      "Feature: 0, Score: [ 0.22464837  0.26702582 -0.24360507 -0.19067364 -0.49607445 -0.30239482\n",
      "  0.38306451  0.46990652 -0.18502839  0.15954868 -0.1671272  -0.2472979\n",
      " -0.15410901  0.29068804  0.20140284  0.175641   -0.7881427  -0.27501336\n",
      " -0.35735209 -0.24062431 -0.1132756   0.15123241  0.24835737  0.20219397\n",
      "  0.14547165 -0.2675775   0.29872383 -0.16935556  0.1390158   0.18363005]\n"
     ]
    }
   ],
   "source": [
    "importance = model.coef_\n"
   ]
  },
  {
   "cell_type": "code",
   "execution_count": null,
   "id": "da6af8ec",
   "metadata": {},
   "outputs": [],
   "source": [
    "import pandas as pd\n",
    "import matplotlib.pyplot as plt\n",
    "l = ['Economic_Need_Index', 'Percent_ELL', 'Percent_Asian', 'Percent_Black',\n",
    "       'Percent_Hispanic', 'Percent_Black_Hispanic', 'Percent_White',\n",
    "       'Student_Attendance_Rate', 'Percent_of_Students_Chronically_Absent',\n",
    "       'Rigorous_Instruction_Per', 'Collaborative_Teachers_Per',\n",
    "       'Supportive_Environment_Per', 'Strong_Family_Community_Ties_Per']\n",
    "titles_select = l\n",
    "fig, axes = plt.subplots(nrows=2, ncols=7, figsize=(40,10))\n",
    "\n",
    "for i in range(2):\n",
    "    for j in range(7):\n",
    "        k = sum([6 if i == 1 else 0])\n",
    "        n = (k+j)\n",
    "        sns.regplot(x=titles_select[n],y='Total_Proficiency_Average',fit_reg = True, scatter =True,data=kaggle_data_df_short, ax=axes[i][j])\n",
    "# # for i in range(len(titles_select)):\n",
    "#     kaggle_data_df_short.plot.scatter(x=titles_select[i], y='Total Proficiency Average', ax=axes[i], alpha=0.4, color='b')\n",
    "plt.savefig('Faetures_to_Proficiency_subplots.png')"
   ]
  },
  {
   "cell_type": "code",
   "execution_count": 580,
   "id": "5aac3215",
   "metadata": {},
   "outputs": [
    {
     "data": {
      "image/png": "[encoded data removed]",
      "text/plain": [
       "<Figure size 914.4x739.44 with 1 Axes>"
      ]
     },
     "metadata": {},
     "output_type": "display_data"
    }
   ],
   "source": [
    "# get importance\n",
    "importance = model.coef_\n",
    "# summarize feature importance\n",
    "feature_impt = pd.DataFrame({\"cols\":best_cols,'importance':importance[0]})\n",
    "\n",
    "sns.set(rc={'figure.figsize':(12.7,10.27)})\n",
    "bar = sns.barplot(data=feature_impt, x=\"importance\", y=\"cols\")\n",
    "bar.set_title('Feature_importance', fontdict={'fontsize':18}, pad=16);"
   ]
  },
  {
   "cell_type": "markdown",
   "id": "3ed2a9f0",
   "metadata": {},
   "source": [
    "### learnings and Ideas:\n",
    "\n",
    "Really the biggest indicator, *and low-tech/low-cost way*, of detemining if a candidate will show up to an interview is simply getting a confirmation from them and permission to start at the time indicated. If we go simply by this method, then we will know 69% of the time. That rate is slightly worse than what these models provide, however when it comes to cost to get the results I believe there's a lot of power in this method.\n",
    "\n",
    "In this way, I believe the company should focus on making sure they reachout to candidate before interviews to make sure they get a confirmation. Obviosuly there are events that cannot be forseen, this method could also possibly be improved upon if there were follow-ups or if there was a calendar invite option. I believe these two could potentially result in higher accuracy if we tested these as other steps to follow before an interview.\n",
    "\n",
    "The models could defitily see improvements with time, more cleaning, and feature engineering. I am sure it could get above that threshold. But it may be a better use of resources to focus on confirmations and engaging with candidates. The model does have the added benefit of giving the probability expected, which I do not provide with the simple method.\n"
   ]
  },
  {
   "cell_type": "markdown",
   "id": "9d251da5",
   "metadata": {},
   "source": [
    "### Intrepretation:\n",
    "\n",
    "A client has scored a candidate with your model and it gave the candidate a 30% chance of attending the interview. However, the candidate did come to the interview. The client would like to know why there is this apparent discrepancy in your model. \n",
    "\n",
    "How would you explain this occurrence? What would you have ideally done to prevent this confusion with the client? \n",
    "\n",
    "Do your accuracy metrics help explain this? \n",
    "\n",
    "Could you provide a better way for the client to evaluate your model's performance?\n",
    "\n",
    "What accuracy metrics would help explain this gap in understanding?"
   ]
  },
  {
   "cell_type": "markdown",
   "id": "5f7fc7b9",
   "metadata": {},
   "source": [
    "The percentage given is an expectation based on the data about the candidates that we are provided. The model can take in that informaton and learn what it thinks are indicators of a candidate actually attending an interview. However, these are essentially averages in a sense. There are big and small factors that can really throw off the predictions. Suppose this candidate wasn't confirmed with or the data wasn't updated in the database, then that would have a very large impact on what the model outputs, and may predict the user to be much less likely of coming to the interview. I think one really great way to prevent this confusion is to make these predictions visual. Providing your results in a dashboard, or GUI that can provide more context or have opportinites for understanding the data better is always a great option for something like this. Showing what is important for the model, and possibly for this user speicifcally. If there are certain factors that are pushing our candidate into the \"no\" outcome, we could flag those. This may be a way of helping the team ensure they are doing their part.\n",
    "\n",
    "The metric we've provided is using accuracy, out of all of the predictions we have how many times were we actually correct. In this case, we are incorrect in our predictions 30% of the time. Sometimes it's due to unforseeable impacts on the day/week of the interview, and othertimes it's becuase the model can accidentaly predict the wrong outcome.\n",
    "\n",
    "If there are wrong predictions, it would be great to keep track of what features seem to be causing this, and also check on the client provided responses--as a few of these have a big imapct on the model itself. So, if they aren't being reponded to then it could be tipping the model results. I would start by evaluating what is happening more often, candidates are predicted to be no-shows but do show (false negatives) or candidates are predicted to show but do not. This will help us detemine how it's skewed, but may also bring insignt in the client process and how these two can work better together.\n",
    "\n",
    "There are other evaluation metrics we could use, but it is dependent upon what errors impact this team the most. If prediting a candidate as a possible no-show, and having them show up is a bigger issue than predicting a candidte to show up and then they don't, then I think the metric we would want to move forward with is recall. **Recall** simply gives us the rate of how many times we've said someone will show, over how many times they actually show (we said they would show/everyone who shows). If however, the opposite is true and it's more of an inconvenience for us to say they will not show when they do, then we need to us **Precision**. Precision shows us how many times we were correct out of all of the times we said someone would show (including no-shows). Once we determine which metric is better for the team, then it would be great to retrain with those in mind."
   ]
  }
 ],
 "metadata": {
  "kernelspec": {
   "display_name": "regression-premium",
   "language": "python",
   "name": "regression-premium"
  },
  "language_info": {
   "codemirror_mode": {
    "name": "ipython",
    "version": 3
   },
   "file_extension": ".py",
   "mimetype": "text/x-python",
   "name": "python",
   "nbconvert_exporter": "python",
   "pygments_lexer": "ipython3",
   "version": "3.8.8"
  }
 },
 "nbformat": 4,
 "nbformat_minor": 5
}

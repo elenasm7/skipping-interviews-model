{
 "cells": [
  {
   "cell_type": "markdown",
   "id": "2629a7ee",
   "metadata": {},
   "source": [
    "# Predicting Interview No-shows\n",
    "\n",
    "**Problem statement:**\n",
    "\n",
    "Your company, Acme Co., sources candidates for companies hiring new employees. Recently, a number of our clients have complained that candidates have not been showing up to interviews. Your boss has provided you with the attached data set in hopes that you can find some way of identifying candidates at risk of not attending scheduled interviews\n",
    "\n",
    "Logistic regression or a tree-based method. It seems like there are a good amount of categorical features, so may be learning towards trees.\n",
    "\n",
    "cols:\n",
    "- Nature of Skillset \n",
    "\n",
    "\n",
    "\n",
    "**Import Libraries:**"
   ]
  },
  {
   "cell_type": "code",
   "execution_count": 190,
   "id": "f7beeccc",
   "metadata": {},
   "outputs": [],
   "source": [
    "import pandas as pd\n",
    "from sklearn.linear_model import LogisticRegression\n",
    "from sklearn.model_selection import train_test_split\n",
    "import numpy as np\n",
    "import matplotlib.pyplot as plt\n",
    "import seaborn as sns\n",
    "from sklearn.metrics import classification_report\n",
    "import re\n",
    "import pickle\n",
    "import googlemaps \n",
    "from datetime import datetime"
   ]
  },
  {
   "cell_type": "markdown",
   "id": "20ca30f6",
   "metadata": {},
   "source": [
    "**Functions:**"
   ]
  },
  {
   "cell_type": "code",
   "execution_count": 290,
   "id": "f44cc527",
   "metadata": {},
   "outputs": [],
   "source": [
    "def clean_special_characters(string):\n",
    "    l = re.sub('[^A-Za-z0-9]+', ' ', string)\n",
    "    return l.strip()\n",
    "\n",
    "def get_city_diff(city_1,city_2):\n",
    "    distance = gmaps.distance_matrix(city_1,city_2)['rows'][0]['elements'][0]\n",
    "    return distance['rows'][0]['elements'][0]['distance']['value']\n",
    "\n",
    "def replace_value(val,replacable_words_li,replace_word):\n",
    "    if val in replacable_words_li:\n",
    "        return replace_word\n",
    "    else: \n",
    "        return val\n",
    "    \n",
    "def get_date_string(date):\n",
    "    val = re.search(\"^(\\d)+[\\.\\-\\/](\\d)+[\\.\\-\\/](\\d)*\",date).group()\n",
    "    val = val.replace(\"/\",'.').replace(\"-\",\".\")\n",
    "    d,m = val.split('.')[0].zfill(2),val.split('.')[1].zfill(2)\n",
    "    if len(val.split('.')[2]) == 4:\n",
    "        yr = val.split('.')[2]\n",
    "    else:\n",
    "        yr = \"20\".join(val.split('.')[2])\n",
    "    return \".\".join([d,m,yr])\n",
    "    \n",
    "def clean_date_formating(row):\n",
    "    try:\n",
    "        try: \n",
    "            if re.search(\"[A-Za-z]+\",row).group() == 'apr':\n",
    "                date = '.'.join([x[:2],'04.2016'])\n",
    "                return datetime.strptime(date, '%d.%m.%Y')\n",
    "            else:\n",
    "                date = get_date_string(row)\n",
    "                return datetime.strptime(date, '%d.%m.%Y')\n",
    "        except: \n",
    "            date = get_date_string(row)\n",
    "            return datetime.strptime(date, '%d.%m.%Y')\n",
    "    except:\n",
    "        print(get_date_string(row))\n",
    "        \n",
    "    \n",
    "def format_date(row):\n",
    "    r = clean_date_formating(row)\n",
    "    \n",
    "    if int(r.split('.')[0]) <= 12 and int(r.split('.')[1]) <= 12:\n",
    "        return \"both_under\"\n",
    "    elif int(r.split('.')[0]) > 12:\n",
    "        return \"d-m-y\"\n",
    "    elif int(r.split('.')[1]) > 12: \n",
    "        return \"m-d-y\"\n",
    "    else:\n",
    "        return \"other\"\n",
    "    \n",
    "def clean_locations(locale):\n",
    "    return locale.replace(\"-\",'').split('/')[0].strip().replace(\"-\",'')\n",
    "\n",
    "def clean_col_vals(row,value_replacements):\n",
    "    if row in value_replacements.keys():\n",
    "        return value_replacements[row].replace(' ','_')\n",
    "    else:\n",
    "        return row.replace(' ','_')\n",
    "    \n",
    "def clean_position_names(row):\n",
    "    return row.replace('-','').replace(' ','_')"
   ]
  },
  {
   "cell_type": "markdown",
   "id": "c70d7770",
   "metadata": {},
   "source": [
    "Read in the data:"
   ]
  },
  {
   "cell_type": "code",
   "execution_count": 11,
   "id": "807cdb67",
   "metadata": {},
   "outputs": [],
   "source": [
    "data = pd.read_csv(\"Interview_Input.csv\")"
   ]
  },
  {
   "cell_type": "markdown",
   "id": "4a3d10e2",
   "metadata": {},
   "source": [
    "### Data Cleaning:\n",
    "\n",
    "We now need to look for missing values, data types, correlations, etc. First let's deal with missing values.\n",
    "\n",
    "Drop read in empty columns:"
   ]
  },
  {
   "cell_type": "code",
   "execution_count": 12,
   "id": "dcd7c0fb",
   "metadata": {},
   "outputs": [],
   "source": [
    "data.drop(['Unnamed: 22','Unnamed: 23','Unnamed: 24','Unnamed: 25','Unnamed: 26'],axis=1,inplace=True)"
   ]
  },
  {
   "cell_type": "code",
   "execution_count": 14,
   "id": "c3fec275",
   "metadata": {},
   "outputs": [
    {
     "data": {
      "text/plain": [
       "Date of Interview                                                                                       1\n",
       "Client name                                                                                             0\n",
       "Industry                                                                                                1\n",
       "Location                                                                                                1\n",
       "Position to be closed                                                                                   1\n",
       "Nature of Skillset                                                                                      1\n",
       "Interview Type                                                                                          1\n",
       "Name(Cand ID)                                                                                           1\n",
       "Gender                                                                                                  1\n",
       "Candidate Current Location                                                                              1\n",
       "Candidate Job Location                                                                                  1\n",
       "Interview Venue                                                                                         1\n",
       "Candidate Native location                                                                               1\n",
       "Have you obtained the necessary permission to start at the required time                              205\n",
       "Hope there will be no unscheduled meetings                                                            248\n",
       "Can I Call you three hours before the interview and follow up on your attendance for the interview    248\n",
       "Can I have an alternative number/ desk number. I assure you that I will not trouble you too much      248\n",
       "Have you taken a printout of your updated resume. Have you read the JD and understood the same        249\n",
       "Are you clear with the venue details and the landmark.                                                249\n",
       "Has the call letter been shared                                                                       246\n",
       "Observed Attendance                                                                                    94\n",
       "Marital Status                                                                                          1\n",
       "dtype: int64"
      ]
     },
     "execution_count": 14,
     "metadata": {},
     "output_type": "execute_result"
    }
   ],
   "source": [
    "data.isnull().sum()"
   ]
  },
  {
   "cell_type": "markdown",
   "id": "ea18077a",
   "metadata": {},
   "source": [
    "for the missing date item, I may just drop. Once checking it (show below), we can see that the entire row is missing, so this one will be dropped:"
   ]
  },
  {
   "cell_type": "code",
   "execution_count": 20,
   "id": "c7673eb2",
   "metadata": {},
   "outputs": [
    {
     "data": {
      "text/html": [
       "<div>\n",
       "<style scoped>\n",
       "    .dataframe tbody tr th:only-of-type {\n",
       "        vertical-align: middle;\n",
       "    }\n",
       "\n",
       "    .dataframe tbody tr th {\n",
       "        vertical-align: top;\n",
       "    }\n",
       "\n",
       "    .dataframe thead th {\n",
       "        text-align: right;\n",
       "    }\n",
       "</style>\n",
       "<table border=\"1\" class=\"dataframe\">\n",
       "  <thead>\n",
       "    <tr style=\"text-align: right;\">\n",
       "      <th></th>\n",
       "      <th>Date of Interview</th>\n",
       "      <th>Client name</th>\n",
       "      <th>Industry</th>\n",
       "      <th>Location</th>\n",
       "      <th>Position to be closed</th>\n",
       "      <th>Nature of Skillset</th>\n",
       "      <th>Interview Type</th>\n",
       "      <th>Name(Cand ID)</th>\n",
       "      <th>Gender</th>\n",
       "      <th>Candidate Current Location</th>\n",
       "      <th>...</th>\n",
       "      <th>Candidate Native location</th>\n",
       "      <th>Have you obtained the necessary permission to start at the required time</th>\n",
       "      <th>Hope there will be no unscheduled meetings</th>\n",
       "      <th>Can I Call you three hours before the interview and follow up on your attendance for the interview</th>\n",
       "      <th>Can I have an alternative number/ desk number. I assure you that I will not trouble you too much</th>\n",
       "      <th>Have you taken a printout of your updated resume. Have you read the JD and understood the same</th>\n",
       "      <th>Are you clear with the venue details and the landmark.</th>\n",
       "      <th>Has the call letter been shared</th>\n",
       "      <th>Observed Attendance</th>\n",
       "      <th>Marital Status</th>\n",
       "    </tr>\n",
       "  </thead>\n",
       "  <tbody>\n",
       "    <tr>\n",
       "      <th>1233</th>\n",
       "      <td>NaN</td>\n",
       "      <td>﻿﻿</td>\n",
       "      <td>NaN</td>\n",
       "      <td>NaN</td>\n",
       "      <td>NaN</td>\n",
       "      <td>NaN</td>\n",
       "      <td>NaN</td>\n",
       "      <td>NaN</td>\n",
       "      <td>NaN</td>\n",
       "      <td>NaN</td>\n",
       "      <td>...</td>\n",
       "      <td>NaN</td>\n",
       "      <td>NaN</td>\n",
       "      <td>NaN</td>\n",
       "      <td>NaN</td>\n",
       "      <td>NaN</td>\n",
       "      <td>NaN</td>\n",
       "      <td>NaN</td>\n",
       "      <td>NaN</td>\n",
       "      <td>NaN</td>\n",
       "      <td>NaN</td>\n",
       "    </tr>\n",
       "  </tbody>\n",
       "</table>\n",
       "<p>1 rows × 22 columns</p>\n",
       "</div>"
      ],
      "text/plain": [
       "     Date of Interview Client name Industry Location Position to be closed  \\\n",
       "1233               NaN          ﻿﻿      NaN      NaN                   NaN   \n",
       "\n",
       "     Nature of Skillset Interview Type Name(Cand ID) Gender  \\\n",
       "1233                NaN            NaN           NaN    NaN   \n",
       "\n",
       "     Candidate Current Location  ... Candidate Native location  \\\n",
       "1233                        NaN  ...                       NaN   \n",
       "\n",
       "     Have you obtained the necessary permission to start at the required time  \\\n",
       "1233                                                NaN                         \n",
       "\n",
       "     Hope there will be no unscheduled meetings  \\\n",
       "1233                                        NaN   \n",
       "\n",
       "     Can I Call you three hours before the interview and follow up on your attendance for the interview  \\\n",
       "1233                                                NaN                                                   \n",
       "\n",
       "     Can I have an alternative number/ desk number. I assure you that I will not trouble you too much  \\\n",
       "1233                                                NaN                                                 \n",
       "\n",
       "     Have you taken a printout of your updated resume. Have you read the JD and understood the same  \\\n",
       "1233                                                NaN                                               \n",
       "\n",
       "     Are you clear with the venue details and the landmark.  \\\n",
       "1233                                                NaN       \n",
       "\n",
       "     Has the call letter been shared Observed Attendance Marital Status  \n",
       "1233                             NaN                 NaN            NaN  \n",
       "\n",
       "[1 rows x 22 columns]"
      ]
     },
     "execution_count": 20,
     "metadata": {},
     "output_type": "execute_result"
    }
   ],
   "source": [
    "data[data['Date of Interview'].isnull()]"
   ]
  },
  {
   "cell_type": "code",
   "execution_count": 25,
   "id": "88b970e0",
   "metadata": {},
   "outputs": [],
   "source": [
    "data.dropna(subset=[\"Date of Interview\"],inplace=True)"
   ]
  },
  {
   "cell_type": "markdown",
   "id": "8d7db00b",
   "metadata": {},
   "source": [
    "Ok, lets look at the values in these binary columns. There seems to be some issues with input values. The values need to be cleaned. So, let's look into the column values to clean them proplerly. First, let's lower all of values."
   ]
  },
  {
   "cell_type": "code",
   "execution_count": 38,
   "id": "211286ff",
   "metadata": {},
   "outputs": [],
   "source": [
    "for col in data.columns:\n",
    "    data[col] = data[col].str.lower()\n",
    "    data[col] = data[col].str.strip()"
   ]
  },
  {
   "cell_type": "markdown",
   "id": "4350ece7",
   "metadata": {},
   "source": [
    "I'm making a dictionary with all columns values, except for dates and names: "
   ]
  },
  {
   "cell_type": "code",
   "execution_count": 244,
   "id": "d6d22abf",
   "metadata": {},
   "outputs": [],
   "source": [
    "col_vals_2 = {}\n",
    "\n",
    "for col in data.columns:\n",
    "    if col in [\"Date of Interview\",\"Name(Cand ID)\"]:\n",
    "        pass\n",
    "    else:\n",
    "        col_vals_2[col] = data[col].value_counts().keys().to_list()"
   ]
  },
  {
   "cell_type": "markdown",
   "id": "3b1726ad",
   "metadata": {},
   "source": [
    "Update values for the question based answers:"
   ]
  },
  {
   "cell_type": "code",
   "execution_count": 91,
   "id": "4804400c",
   "metadata": {},
   "outputs": [],
   "source": [
    "cols_for_maybe = ['Has the call letter been shared','Hope there will be no unscheduled meetings']\n",
    "    \n",
    "cols_for_YN = ['Are you clear with the venue details and the landmark.',\n",
    "               'Have you taken a printout of your updated resume. Have you read the JD and understood the same',\n",
    "               'Can I have an alternative number/ desk number. I assure you that I will not trouble you too much',\n",
    "               'Can I Call you three hours before the interview and follow up on your attendance for the interview',\n",
    "               'Have you obtained the necessary permission to start at the required time']\n",
    "\n",
    "vals_for_maybe_dict = ['need to check','not yet','havent checked','yet to check','cant say']\n",
    "\n",
    "vals_for_YN = ['no- i need to check','not yet','no- will take it soon','no',\n",
    "               'no i have only thi number','no','no dont','not yet','yet to confirm']\n",
    "\n",
    "for col in cols_for_maybe:\n",
    "    data[col] = data[col].apply(lambda val: replace_value(val,vals_for_maybe_dict,\"not sure\"))\n",
    "    \n",
    "for col in cols_for_YN:\n",
    "    data[col] = data[col].apply(lambda val: replace_value(val,vals_for_YN,\"no\"))\n",
    "    \n",
    "#replace_value(val,replacable_words_li,replace_word"
   ]
  },
  {
   "cell_type": "markdown",
   "id": "8f2a39d5",
   "metadata": {},
   "source": [
    "There is a string value that is \"na\". In a way to understand if it is meant to be read as \"N/A\" or an accident for \"no\", I've pulled the data where this value shows up. \n",
    "\n",
    "For most of the columns, it is showing up for the 20 same rows (found using `data[data['Hope there will be no unscheduled meetings']=='na']`). I looked to see what is common about these rows to determine if there are any commonaility that would make it sensible to be N/A or if it should be no. However, I think based on the commonaility across the board, I'm leaning to it falling into the NaN category. I will most likely assign it as such, and deal with null values after one-hot encoding."
   ]
  },
  {
   "cell_type": "code",
   "execution_count": 111,
   "id": "0236a9e2",
   "metadata": {},
   "outputs": [],
   "source": [
    "#get all other coluns to see commonalities between these 20\n",
    "corr_cols = data.columns.to_list()[:-9]\n",
    "corr_cols.extend(data.columns.to_list()[-2:])\n",
    "check_1 = data[data['Hope there will be no unscheduled meetings']=='na']\n",
    "check_1[corr_cols]"
   ]
  },
  {
   "cell_type": "markdown",
   "id": "fa51a58e",
   "metadata": {},
   "source": [
    "I now need to address the formatting issues with the date column. Some values are separated differently. A few list date and time, while others start with months as the first value. Below we will figure out how we can manage these and fix them."
   ]
  },
  {
   "cell_type": "code",
   "execution_count": 185,
   "id": "895ec012",
   "metadata": {},
   "outputs": [],
   "source": [
    "data[\"date_formats\"] = data[\"Date of Interview\"].apply(lambda row: format_date(row))"
   ]
  },
  {
   "cell_type": "code",
   "execution_count": 188,
   "id": "5cb300e2",
   "metadata": {},
   "outputs": [
    {
     "data": {
      "text/plain": [
       "d-m-y         658\n",
       "both_under    575\n",
       "Name: date_formats, dtype: int64"
      ]
     },
     "execution_count": 188,
     "metadata": {},
     "output_type": "execute_result"
    }
   ],
   "source": [
    "data[\"date_formats\"].value_counts()"
   ]
  },
  {
   "cell_type": "markdown",
   "id": "91cbef56",
   "metadata": {},
   "source": [
    "based on this, I am assuming a format of \"dd/mm/yyyy\""
   ]
  },
  {
   "cell_type": "code",
   "execution_count": 217,
   "id": "32d31110",
   "metadata": {},
   "outputs": [],
   "source": [
    "data[\"Date of Interview\"] = data[\"Date of Interview\"].apply(lambda row: clean_date_formating(row))"
   ]
  },
  {
   "cell_type": "markdown",
   "id": "c98b21d6",
   "metadata": {},
   "source": [
    "Based on the fact this model is forward looking, I'm going to **not going to use the year** in training our model. We will have a separate month and day column. But we will do this after cleaning the rest of the data.\n",
    "\n",
    "Next clean all location values: "
   ]
  },
  {
   "cell_type": "code",
   "execution_count": 239,
   "id": "0f7b9dfb",
   "metadata": {},
   "outputs": [],
   "source": [
    "for col in ['Location','Candidate Current Location','Candidate Job Location',\n",
    "            'Interview Venue','Candidate Native location']:\n",
    "    data[col] = data[col].apply(lambda loc: clean_locations(loc))"
   ]
  },
  {
   "cell_type": "markdown",
   "id": "9f44172a",
   "metadata": {},
   "source": [
    "fix values that need to be replaced:"
   ]
  },
  {
   "cell_type": "code",
   "execution_count": 291,
   "id": "92378bed",
   "metadata": {},
   "outputs": [],
   "source": [
    "industry_replacements = {'it products and services':'it','it services':'it'}\n",
    "interview_type_replacements = {'scheduled walk in':'scheduled_walkin','scheduled walkin':'scheduled_walkin',\n",
    "                              'sceduled walkin':'scheduled_walkin'}\n",
    "client_replacements = {\"aon hewitt gurgaon\":\"aon\",\"aon hewitt\":\"aon\",\"hewitt\":\"aon\",\n",
    "                       \"standard chartered bank chennai\":\"standard chartered bank\"}\n",
    "\n",
    "data['Industry'] = data['Industry'].apply(lambda row: clean_col_vals(row,industry_replacements))\n",
    "data['Interview Type'] = data['Interview Type'].apply(lambda row: clean_col_vals(row,interview_type_replacements))\n",
    "data[\"Position to be closed\"] = data[\"Position to be closed\"].apply(lambda row: clean_position_names(row)).value_counts()\n",
    "data['Client name'] = data['Client name'].apply(lambda row: clean_col_vals(row,client_replacements))"
   ]
  },
  {
   "cell_type": "markdown",
   "id": "08d20ddb",
   "metadata": {},
   "source": [
    "Look into skillsets to determine how we can make more out of this data. There's a lot of data in each cell, we can break them down more to better use the data."
   ]
  },
  {
   "cell_type": "code",
   "execution_count": null,
   "id": "46bdddff",
   "metadata": {},
   "outputs": [],
   "source": [
    "\n",
    "\"Nature of Skillset\":[],\n",
    "\n",
    "\n",
    "look into 'Nature of Skillset': get rid of times of day structure like dd.dd am/pm\n",
    "    \n",
    "\n",
    "\n",
    "    \n"
   ]
  },
  {
   "cell_type": "markdown",
   "id": "5617dd3f",
   "metadata": {},
   "source": [
    "'Interview Venue' same as 'Candidate Current Location'\n",
    "'Candidate Job Location' same as 'Candidate Current Location'\n",
    "'Candidate Native location' same as 'Candidate Current Location'\n",
    "\n",
    "could get get distances between these location using mapbox or google maps?\n"
   ]
  },
  {
   "cell_type": "code",
   "execution_count": 219,
   "id": "6d85c757",
   "metadata": {},
   "outputs": [
    {
     "data": {
      "text/plain": [
       "['yes', 'na', 'no', 'not sure']"
      ]
     },
     "execution_count": 219,
     "metadata": {},
     "output_type": "execute_result"
    }
   ],
   "source": [
    "data['Has the call letter been shared'].value_counts().keys().to_list()"
   ]
  },
  {
   "cell_type": "markdown",
   "id": "c7ae07e0",
   "metadata": {},
   "source": [
    "To deal with these other ones I'm going to first one-hot enconde these yes/no columns that contain all of the missing values."
   ]
  },
  {
   "cell_type": "code",
   "execution_count": 299,
   "id": "510cfcba",
   "metadata": {},
   "outputs": [],
   "source": [
    "# pd.get_dummies(data,columns=[\"Have you obtained the necessary permission to start at the required time\",\n",
    "#                              \"Hope there will be no unscheduled meetings\",\n",
    "#                              \"Can I Call you three hours before the interview and follow up on your attendance for the interview\",\n",
    "#                              \"Can I have an alternative number/ desk number. I assure you that I will not trouble you too much\",\n",
    "#                              \"Have you taken a printout of your updated resume. Have you read the JD and understood the same\",\n",
    "#                              \"Are you clear with the venue details and the landmark.\",\n",
    "#                              \"Has the call letter been shared\",\n",
    "#                              \"Observed Attendance\"])"
   ]
  },
  {
   "cell_type": "code",
   "execution_count": null,
   "id": "6b21db9b",
   "metadata": {},
   "outputs": [],
   "source": [
    "\"Have you obtained the necessary permission to start at the required time\",\n",
    "\"Hope there will be no unscheduled meetings\",\n",
    "\"Can I Call you three hours before the interview and follow up on your attendance for the interview\",\n",
    "\"Can I have an alternative number/ desk number. I assure you that I will not trouble you too much\",\n",
    "\"Have you taken a printout of your updated resume. Have you read the JD and understood the same\",\n",
    "\"Are you clear with the venue details and the landmark.\",\n",
    "\"Has the call letter been shared\",\n",
    "\"Observed Attendance\""
   ]
  },
  {
   "cell_type": "code",
   "execution_count": 15,
   "id": "ce780ed3",
   "metadata": {},
   "outputs": [
    {
     "data": {
      "text/html": [
       "<div>\n",
       "<style scoped>\n",
       "    .dataframe tbody tr th:only-of-type {\n",
       "        vertical-align: middle;\n",
       "    }\n",
       "\n",
       "    .dataframe tbody tr th {\n",
       "        vertical-align: top;\n",
       "    }\n",
       "\n",
       "    .dataframe thead th {\n",
       "        text-align: right;\n",
       "    }\n",
       "</style>\n",
       "<table border=\"1\" class=\"dataframe\">\n",
       "  <thead>\n",
       "    <tr style=\"text-align: right;\">\n",
       "      <th></th>\n",
       "      <th>Date of Interview</th>\n",
       "      <th>Client name</th>\n",
       "      <th>Industry</th>\n",
       "      <th>Location</th>\n",
       "      <th>Position to be closed</th>\n",
       "      <th>Nature of Skillset</th>\n",
       "      <th>Interview Type</th>\n",
       "      <th>Name(Cand ID)</th>\n",
       "      <th>Gender</th>\n",
       "      <th>Candidate Current Location</th>\n",
       "      <th>...</th>\n",
       "      <th>Candidate Native location</th>\n",
       "      <th>Have you obtained the necessary permission to start at the required time</th>\n",
       "      <th>Hope there will be no unscheduled meetings</th>\n",
       "      <th>Can I Call you three hours before the interview and follow up on your attendance for the interview</th>\n",
       "      <th>Can I have an alternative number/ desk number. I assure you that I will not trouble you too much</th>\n",
       "      <th>Have you taken a printout of your updated resume. Have you read the JD and understood the same</th>\n",
       "      <th>Are you clear with the venue details and the landmark.</th>\n",
       "      <th>Has the call letter been shared</th>\n",
       "      <th>Observed Attendance</th>\n",
       "      <th>Marital Status</th>\n",
       "    </tr>\n",
       "  </thead>\n",
       "  <tbody>\n",
       "    <tr>\n",
       "      <th>0</th>\n",
       "      <td>13.02.2015</td>\n",
       "      <td>Hospira</td>\n",
       "      <td>Pharmaceuticals</td>\n",
       "      <td>Chennai</td>\n",
       "      <td>Production- Sterile</td>\n",
       "      <td>Routine</td>\n",
       "      <td>Scheduled Walkin</td>\n",
       "      <td>Candidate 1</td>\n",
       "      <td>Male</td>\n",
       "      <td>Chennai</td>\n",
       "      <td>...</td>\n",
       "      <td>Hosur</td>\n",
       "      <td>Yes</td>\n",
       "      <td>Yes</td>\n",
       "      <td>Yes</td>\n",
       "      <td>Yes</td>\n",
       "      <td>Yes</td>\n",
       "      <td>Yes</td>\n",
       "      <td>Yes</td>\n",
       "      <td>No</td>\n",
       "      <td>Single</td>\n",
       "    </tr>\n",
       "    <tr>\n",
       "      <th>1</th>\n",
       "      <td>13.02.2015</td>\n",
       "      <td>Hospira</td>\n",
       "      <td>Pharmaceuticals</td>\n",
       "      <td>Chennai</td>\n",
       "      <td>Production- Sterile</td>\n",
       "      <td>Routine</td>\n",
       "      <td>Scheduled Walkin</td>\n",
       "      <td>Candidate 2</td>\n",
       "      <td>Male</td>\n",
       "      <td>Chennai</td>\n",
       "      <td>...</td>\n",
       "      <td>Trichy</td>\n",
       "      <td>Yes</td>\n",
       "      <td>Yes</td>\n",
       "      <td>Yes</td>\n",
       "      <td>Yes</td>\n",
       "      <td>Yes</td>\n",
       "      <td>Yes</td>\n",
       "      <td>Yes</td>\n",
       "      <td>No</td>\n",
       "      <td>Single</td>\n",
       "    </tr>\n",
       "    <tr>\n",
       "      <th>2</th>\n",
       "      <td>13.02.2015</td>\n",
       "      <td>Hospira</td>\n",
       "      <td>Pharmaceuticals</td>\n",
       "      <td>Chennai</td>\n",
       "      <td>Production- Sterile</td>\n",
       "      <td>Routine</td>\n",
       "      <td>Scheduled Walkin</td>\n",
       "      <td>Candidate 3</td>\n",
       "      <td>Male</td>\n",
       "      <td>Chennai</td>\n",
       "      <td>...</td>\n",
       "      <td>Chennai</td>\n",
       "      <td>NaN</td>\n",
       "      <td>Na</td>\n",
       "      <td>NaN</td>\n",
       "      <td>NaN</td>\n",
       "      <td>NaN</td>\n",
       "      <td>NaN</td>\n",
       "      <td>NaN</td>\n",
       "      <td>No</td>\n",
       "      <td>Single</td>\n",
       "    </tr>\n",
       "    <tr>\n",
       "      <th>3</th>\n",
       "      <td>13.02.2015</td>\n",
       "      <td>Hospira</td>\n",
       "      <td>Pharmaceuticals</td>\n",
       "      <td>Chennai</td>\n",
       "      <td>Production- Sterile</td>\n",
       "      <td>Routine</td>\n",
       "      <td>Scheduled Walkin</td>\n",
       "      <td>Candidate 4</td>\n",
       "      <td>Male</td>\n",
       "      <td>Chennai</td>\n",
       "      <td>...</td>\n",
       "      <td>Chennai</td>\n",
       "      <td>Yes</td>\n",
       "      <td>Yes</td>\n",
       "      <td>No</td>\n",
       "      <td>Yes</td>\n",
       "      <td>No</td>\n",
       "      <td>Yes</td>\n",
       "      <td>Yes</td>\n",
       "      <td>No</td>\n",
       "      <td>Single</td>\n",
       "    </tr>\n",
       "    <tr>\n",
       "      <th>4</th>\n",
       "      <td>13.02.2015</td>\n",
       "      <td>Hospira</td>\n",
       "      <td>Pharmaceuticals</td>\n",
       "      <td>Chennai</td>\n",
       "      <td>Production- Sterile</td>\n",
       "      <td>Routine</td>\n",
       "      <td>Scheduled Walkin</td>\n",
       "      <td>Candidate 5</td>\n",
       "      <td>Male</td>\n",
       "      <td>Chennai</td>\n",
       "      <td>...</td>\n",
       "      <td>Chennai</td>\n",
       "      <td>Yes</td>\n",
       "      <td>Yes</td>\n",
       "      <td>Yes</td>\n",
       "      <td>No</td>\n",
       "      <td>Yes</td>\n",
       "      <td>Yes</td>\n",
       "      <td>Yes</td>\n",
       "      <td>No</td>\n",
       "      <td>Married</td>\n",
       "    </tr>\n",
       "  </tbody>\n",
       "</table>\n",
       "<p>5 rows × 22 columns</p>\n",
       "</div>"
      ],
      "text/plain": [
       "  Date of Interview Client name         Industry Location  \\\n",
       "0        13.02.2015     Hospira  Pharmaceuticals  Chennai   \n",
       "1        13.02.2015     Hospira  Pharmaceuticals  Chennai   \n",
       "2        13.02.2015     Hospira  Pharmaceuticals  Chennai   \n",
       "3        13.02.2015     Hospira  Pharmaceuticals  Chennai   \n",
       "4        13.02.2015     Hospira  Pharmaceuticals  Chennai   \n",
       "\n",
       "  Position to be closed Nature of Skillset    Interview Type Name(Cand ID)  \\\n",
       "0   Production- Sterile            Routine  Scheduled Walkin   Candidate 1   \n",
       "1   Production- Sterile            Routine  Scheduled Walkin   Candidate 2   \n",
       "2   Production- Sterile            Routine  Scheduled Walkin   Candidate 3   \n",
       "3   Production- Sterile            Routine  Scheduled Walkin   Candidate 4   \n",
       "4   Production- Sterile            Routine  Scheduled Walkin   Candidate 5   \n",
       "\n",
       "  Gender Candidate Current Location  ... Candidate Native location  \\\n",
       "0   Male                    Chennai  ...                     Hosur   \n",
       "1   Male                    Chennai  ...                    Trichy   \n",
       "2   Male                    Chennai  ...                   Chennai   \n",
       "3   Male                    Chennai  ...                   Chennai   \n",
       "4   Male                    Chennai  ...                   Chennai   \n",
       "\n",
       "  Have you obtained the necessary permission to start at the required time  \\\n",
       "0                                                Yes                         \n",
       "1                                                Yes                         \n",
       "2                                                NaN                         \n",
       "3                                                Yes                         \n",
       "4                                                Yes                         \n",
       "\n",
       "  Hope there will be no unscheduled meetings  \\\n",
       "0                                        Yes   \n",
       "1                                        Yes   \n",
       "2                                         Na   \n",
       "3                                        Yes   \n",
       "4                                        Yes   \n",
       "\n",
       "  Can I Call you three hours before the interview and follow up on your attendance for the interview  \\\n",
       "0                                                Yes                                                   \n",
       "1                                                Yes                                                   \n",
       "2                                                NaN                                                   \n",
       "3                                                 No                                                   \n",
       "4                                                Yes                                                   \n",
       "\n",
       "  Can I have an alternative number/ desk number. I assure you that I will not trouble you too much  \\\n",
       "0                                                Yes                                                 \n",
       "1                                                Yes                                                 \n",
       "2                                                NaN                                                 \n",
       "3                                                Yes                                                 \n",
       "4                                                 No                                                 \n",
       "\n",
       "  Have you taken a printout of your updated resume. Have you read the JD and understood the same  \\\n",
       "0                                                Yes                                               \n",
       "1                                                Yes                                               \n",
       "2                                                NaN                                               \n",
       "3                                                 No                                               \n",
       "4                                                Yes                                               \n",
       "\n",
       "  Are you clear with the venue details and the landmark.  \\\n",
       "0                                                Yes       \n",
       "1                                                Yes       \n",
       "2                                                NaN       \n",
       "3                                                Yes       \n",
       "4                                                Yes       \n",
       "\n",
       "  Has the call letter been shared Observed Attendance Marital Status  \n",
       "0                             Yes                  No         Single  \n",
       "1                             Yes                  No         Single  \n",
       "2                             NaN                  No         Single  \n",
       "3                             Yes                  No         Single  \n",
       "4                             Yes                  No        Married  \n",
       "\n",
       "[5 rows x 22 columns]"
      ]
     },
     "execution_count": 15,
     "metadata": {},
     "output_type": "execute_result"
    }
   ],
   "source": [
    "data.head()"
   ]
  },
  {
   "cell_type": "code",
   "execution_count": 16,
   "id": "830a0d5a",
   "metadata": {},
   "outputs": [
    {
     "data": {
      "text/plain": [
       "Index(['Date of Interview', 'Client name', 'Industry', 'Location',\n",
       "       'Position to be closed', 'Nature of Skillset', 'Interview Type',\n",
       "       'Name(Cand ID)', 'Gender', 'Candidate Current Location',\n",
       "       'Candidate Job Location', 'Interview Venue',\n",
       "       'Candidate Native location',\n",
       "       'Have you obtained the necessary permission to start at the required time',\n",
       "       'Hope there will be no unscheduled meetings',\n",
       "       'Can I Call you three hours before the interview and follow up on your attendance for the interview',\n",
       "       'Can I have an alternative number/ desk number. I assure you that I will not trouble you too much',\n",
       "       'Have you taken a printout of your updated resume. Have you read the JD and understood the same',\n",
       "       'Are you clear with the venue details and the landmark.',\n",
       "       'Has the call letter been shared', 'Observed Attendance',\n",
       "       'Marital Status'],\n",
       "      dtype='object')"
      ]
     },
     "execution_count": 16,
     "metadata": {},
     "output_type": "execute_result"
    }
   ],
   "source": [
    "data.columns"
   ]
  },
  {
   "cell_type": "code",
   "execution_count": null,
   "id": "45613f7c",
   "metadata": {},
   "outputs": [],
   "source": [
    "X_train, X_test, y_train, y_test = train_test_split(X, y, test_size=0.25, random_state=16)"
   ]
  },
  {
   "cell_type": "markdown",
   "id": "4146a0e8",
   "metadata": {},
   "source": [
    "feature ideas: \n",
    "- current location same as job location\n",
    "    "
   ]
  },
  {
   "cell_type": "code",
   "execution_count": null,
   "id": "ed35bcf1",
   "metadata": {},
   "outputs": [],
   "source": [
    "with open('../api_key.pickle', 'rb') as handle:\n",
    "    api_info = pickle.load(handle)\n",
    "\n",
    "gmaps = googlemaps.Client(key=api_info[\"api_key\"]) "
   ]
  },
  {
   "cell_type": "markdown",
   "id": "b4d6f2b2",
   "metadata": {},
   "source": [
    "### EDA:"
   ]
  },
  {
   "cell_type": "code",
   "execution_count": null,
   "id": "614aa506",
   "metadata": {},
   "outputs": [],
   "source": []
  }
 ],
 "metadata": {
  "kernelspec": {
   "display_name": "regression-premium",
   "language": "python",
   "name": "regression-premium"
  },
  "language_info": {
   "codemirror_mode": {
    "name": "ipython",
    "version": 3
   },
   "file_extension": ".py",
   "mimetype": "text/x-python",
   "name": "python",
   "nbconvert_exporter": "python",
   "pygments_lexer": "ipython3",
   "version": "3.8.8"
  }
 },
 "nbformat": 4,
 "nbformat_minor": 5
}
